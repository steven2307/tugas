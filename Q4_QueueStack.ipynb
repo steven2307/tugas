{
 "cells": [
  {
   "cell_type": "code",
   "execution_count": 1,
   "id": "388b735b",
   "metadata": {},
   "outputs": [],
   "source": [
    "class Stack():\n",
    "    def __init__(self):\n",
    "        self.list = []\n",
    "\n",
    "    def __len__(self):\n",
    "        return len(self.list)\n",
    "\n",
    "    def push(self, item):\n",
    "        self.list.append(item)\n",
    "\n",
    "    def pop(self):\n",
    "        if len(self.list) == 0:\n",
    "            return None\n",
    "        return self.list.pop()\n",
    "\n",
    "class QueueviaStack():\n",
    "    def __init__(self):\n",
    "        self.inStack = Stack()\n",
    "        self.outStack = Stack()\n",
    "\n",
    "    def enqueue(self, item):\n",
    "        self.inStack.push(item)\n",
    "\n",
    "    def dequeue(self):\n",
    "        while len(self.inStack):\n",
    "            self.outStack.push(self.inStack.pop())\n",
    "        result = self.outStack.pop()\n",
    "        while len(self.outStack):\n",
    "            self.inStack.push(self.outStack.pop())\n",
    "        return result"
   ]
  },
  {
   "cell_type": "code",
   "execution_count": 2,
   "id": "99718663",
   "metadata": {},
   "outputs": [
    {
     "name": "stdout",
     "output_type": "stream",
     "text": [
      "1\n"
     ]
    }
   ],
   "source": [
    "customQueue = QueueviaStack()\n",
    "customQueue.enqueue(1)\n",
    "customQueue.enqueue(2)\n",
    "customQueue.enqueue(3)\n",
    "print(customQueue.dequeue())"
   ]
  },
  {
   "cell_type": "code",
   "execution_count": 3,
   "id": "01025177",
   "metadata": {},
   "outputs": [
    {
     "name": "stdout",
     "output_type": "stream",
     "text": [
      "2\n"
     ]
    }
   ],
   "source": [
    "customQueue.enqueue(4)\n",
    "print(customQueue.dequeue())"
   ]
  }
 ],
 "metadata": {
  "kernelspec": {
   "display_name": "Python 3 (ipykernel)",
   "language": "python",
   "name": "python3"
  },
  "language_info": {
   "codemirror_mode": {
    "name": "ipython",
    "version": 3
   },
   "file_extension": ".py",
   "mimetype": "text/x-python",
   "name": "python",
   "nbconvert_exporter": "python",
   "pygments_lexer": "ipython3",
   "version": "3.9.12"
  }
 },
 "nbformat": 4,
 "nbformat_minor": 5
}
