{
 "cells": [
  {
   "cell_type": "code",
   "execution_count": 1,
   "id": "882bd169",
   "metadata": {
    "scrolled": true
   },
   "outputs": [
    {
     "name": "stdout",
     "output_type": "stream",
     "text": [
      "Masukkan jenis bangun (trapesium/lingkaran/balok/segitiga/persegi panjang/persegi): trapesium\n",
      "Masukkan sisi sejajar 1: 3\n",
      "Masukkan sisi sejajar 2: 5\n",
      "Masukkan tinggi: 2\n",
      "Luas trapesium adalah 8.0\n"
     ]
    }
   ],
   "source": [
    "def hitung_luas_bangun(nama_bangun, nilai):\n",
    "    if nama_bangun.lower() == \"trapesium\":\n",
    "        luas = (nilai[0] + nilai[1]) * nilai[2] / 2\n",
    "    elif nama_bangun.lower() == \"lingkaran\":\n",
    "        luas = 3.14 * nilai[0]**2\n",
    "    elif nama_bangun.lower() == \"balok\":\n",
    "        luas = nilai[0] * nilai[1] * nilai[2]\n",
    "    elif nama_bangun.lower() == \"segitiga\":\n",
    "        luas = 0.5 * nilai[0] * nilai[1]\n",
    "    elif nama_bangun.lower() == \"persegi panjang\":\n",
    "        luas = nilai[0] * nilai[1]\n",
    "    elif nama_bangun.lower() == \"persegi\":\n",
    "        luas = nilai[0]**2\n",
    "    else:\n",
    "        luas = None\n",
    "        print(\"Nama bangun tidak valid.\")\n",
    "    return luas\n",
    "\n",
    "def main():\n",
    "    nama_bangun = input(\"Masukkan jenis bangun (trapesium/lingkaran/balok/segitiga/persegi panjang/persegi): \")\n",
    "    nilai = []\n",
    "\n",
    "    if nama_bangun.lower() == \"trapesium\":\n",
    "        nilai.append(float(input(\"Masukkan sisi sejajar 1: \")))\n",
    "        nilai.append(float(input(\"Masukkan sisi sejajar 2: \")))\n",
    "        nilai.append(float(input(\"Masukkan tinggi: \")))\n",
    "    elif nama_bangun.lower() == \"lingkaran\":\n",
    "        nilai.append(float(input(\"Masukkan jari-jari: \")))\n",
    "    elif nama_bangun.lower() == \"balok\":\n",
    "        nilai.append(float(input(\"Masukkan alas: \")))\n",
    "        nilai.append(float(input(\"Masukkan lebar: \")))\n",
    "        nilai.append(float(input(\"Masukkan tinggi: \")))\n",
    "    elif nama_bangun.lower() == \"segitiga\":\n",
    "        nilai.append(float(input(\"Masukkan panjang alas: \")))\n",
    "        nilai.append(float(input(\"Masukkan tinggi: \")))\n",
    "    elif nama_bangun.lower() == \"persegi panjang\":\n",
    "        nilai.append(float(input(\"Masukkan panjang: \")))\n",
    "        nilai.append(float(input(\"Masukkan lebar: \")))\n",
    "    elif nama_bangun.lower() == \"persegi\":\n",
    "        nilai.append(float(input(\"Masukkan panjang sisi: \")))\n",
    "    else:\n",
    "        print(\"Nama bangun tidak valid.\")\n",
    "        return\n",
    "    \n",
    "    luas = hitung_luas_bangun(nama_bangun, nilai)\n",
    "    if luas is not None:\n",
    "        print(\"Luas\", nama_bangun, \"adalah\", luas)\n",
    "\n",
    "if __name__ == \"__main__\":\n",
    "    main()\n"
   ]
  }
 ],
 "metadata": {
  "kernelspec": {
   "display_name": "Python 3 (ipykernel)",
   "language": "python",
   "name": "python3"
  },
  "language_info": {
   "codemirror_mode": {
    "name": "ipython",
    "version": 3
   },
   "file_extension": ".py",
   "mimetype": "text/x-python",
   "name": "python",
   "nbconvert_exporter": "python",
   "pygments_lexer": "ipython3",
   "version": "3.9.12"
  }
 },
 "nbformat": 4,
 "nbformat_minor": 5
}
