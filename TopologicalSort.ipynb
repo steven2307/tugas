{
 "cells": [
  {
   "cell_type": "code",
   "execution_count": 1,
   "id": "90378aeb",
   "metadata": {},
   "outputs": [],
   "source": [
    "from collections import defaultdict"
   ]
  },
  {
   "cell_type": "code",
   "execution_count": 2,
   "id": "0b94c4fc",
   "metadata": {},
   "outputs": [],
   "source": [
    "class Graph:\n",
    "    def __init__(self, numberofVertices):\n",
    "        self.graph = defaultdict(list)\n",
    "        self.numberofVertices = numberofVertices\n",
    "    \n",
    "    def addEdge(self, vertex, edge):\n",
    "        self.graph[vertex].append(edge)\n",
    "    \n",
    "    def topogologicalSortUtil(self, v, visited, stack):\n",
    "        visited.append(v)\n",
    "\n",
    "        for i in self.graph[v]:\n",
    "            if i not in visited:\n",
    "                self.topogologicalSortUtil(i, visited, stack)\n",
    "        \n",
    "        stack.insert(0, v)\n",
    "    \n",
    "    def topologicalSort(self):\n",
    "\n",
    "        visited = []\n",
    "        stack = []\n",
    "\n",
    "        for k in list(self.graph):\n",
    "            if k not in visited:\n",
    "                self.topogologicalSortUtil(k, visited, stack)\n",
    "        \n",
    "        print(stack)"
   ]
  },
  {
   "cell_type": "code",
   "execution_count": 3,
   "id": "fae1990b",
   "metadata": {},
   "outputs": [],
   "source": [
    "customGraph = Graph(8)\n",
    "customGraph.addEdge(\"A\", \"C\")\n",
    "customGraph.addEdge(\"C\", \"E\")\n",
    "customGraph.addEdge(\"E\", \"H\")\n",
    "customGraph.addEdge(\"E\", \"F\")\n",
    "customGraph.addEdge(\"F\", \"G\")\n",
    "customGraph.addEdge(\"B\", \"D\")\n",
    "customGraph.addEdge(\"B\", \"C\")\n",
    "customGraph.addEdge(\"D\", \"F\")"
   ]
  },
  {
   "cell_type": "code",
   "execution_count": 4,
   "id": "2c82b4a9",
   "metadata": {},
   "outputs": [
    {
     "name": "stdout",
     "output_type": "stream",
     "text": [
      "['B', 'D', 'A', 'C', 'E', 'F', 'G', 'H']\n"
     ]
    }
   ],
   "source": [
    "customGraph.topologicalSort()"
   ]
  }
 ],
 "metadata": {
  "kernelspec": {
   "display_name": "Python 3 (ipykernel)",
   "language": "python",
   "name": "python3"
  },
  "language_info": {
   "codemirror_mode": {
    "name": "ipython",
    "version": 3
   },
   "file_extension": ".py",
   "mimetype": "text/x-python",
   "name": "python",
   "nbconvert_exporter": "python",
   "pygments_lexer": "ipython3",
   "version": "3.9.12"
  }
 },
 "nbformat": 4,
 "nbformat_minor": 5
}
