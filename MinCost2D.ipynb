{
 "cells": [
  {
   "cell_type": "code",
   "execution_count": 1,
   "id": "a7a197a0",
   "metadata": {},
   "outputs": [],
   "source": [
    "def findMinCost(twoDArray, row, col):\n",
    "    if row == -1 or col == -1:\n",
    "        return float('inf')\n",
    "    elif row == 0 and col == 0:\n",
    "        return twoDArray[0][0]\n",
    "    else:\n",
    "        op1 = findMinCost(twoDArray, row-1, col)\n",
    "        op2 = findMinCost(twoDArray, row, col-1)\n",
    "        return twoDArray[row][col] + min(op1,op2)"
   ]
  },
  {
   "cell_type": "code",
   "execution_count": 2,
   "id": "e5138aa8",
   "metadata": {},
   "outputs": [
    {
     "name": "stdout",
     "output_type": "stream",
     "text": [
      "36\n"
     ]
    }
   ],
   "source": [
    "TwoDList = [[4,7,8,6,4],\n",
    "           [6,7,3,9,2],\n",
    "           [3,8,1,2,4],\n",
    "           [7,1,7,3,7],\n",
    "           [2,9,8,9,3]\n",
    "           ]\n",
    "\n",
    "print(findMinCost(TwoDList, 4,4))"
   ]
  }
 ],
 "metadata": {
  "kernelspec": {
   "display_name": "Python 3 (ipykernel)",
   "language": "python",
   "name": "python3"
  },
  "language_info": {
   "codemirror_mode": {
    "name": "ipython",
    "version": 3
   },
   "file_extension": ".py",
   "mimetype": "text/x-python",
   "name": "python",
   "nbconvert_exporter": "python",
   "pygments_lexer": "ipython3",
   "version": "3.9.12"
  }
 },
 "nbformat": 4,
 "nbformat_minor": 5
}
