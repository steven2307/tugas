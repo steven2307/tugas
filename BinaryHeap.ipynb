{
 "cells": [
  {
   "cell_type": "code",
   "execution_count": 1,
   "id": "3e8eb94b",
   "metadata": {},
   "outputs": [],
   "source": [
    "class Heap:\n",
    "    def __init__(self, size):\n",
    "        self.customList = (size+1) * [None]\n",
    "        self.heapSize = 0\n",
    "        self.maxSize = size + 1"
   ]
  },
  {
   "cell_type": "code",
   "execution_count": 2,
   "id": "88c82598",
   "metadata": {},
   "outputs": [],
   "source": [
    "def peekofHeap(rootNode):\n",
    "    if not rootNode:\n",
    "        return\n",
    "    else:\n",
    "        return rootNode.customList[1]\n",
    "\n",
    "def sizeofHeap(rootNode):\n",
    "    if not rootNode:\n",
    "        return\n",
    "    else:\n",
    "        return rootNode.heapSize\n",
    "\n",
    "def levelOrderTraversal(rootNode):\n",
    "    if not rootNode:\n",
    "        return\n",
    "    else:\n",
    "        for i in range(1, rootNode.heapSize+1):\n",
    "            print(rootNode.customList[i])\n",
    "\n",
    "def heapifyTreeInsert(rootNode, index, heapType):\n",
    "    parentIndex = int(index/2)\n",
    "    if index <= 1:\n",
    "        return\n",
    "    if heapType == \"Min\":\n",
    "        if rootNode.customList[index] < rootNode.customList[parentIndex]:\n",
    "            temp = rootNode.customList[index]\n",
    "            rootNode.customList[index] = rootNode.customList[parentIndex]\n",
    "            rootNode.customList[parentIndex] = temp\n",
    "        heapifyTreeInsert(rootNode, parentIndex, heapType)\n",
    "    elif heapType == \"Max\":\n",
    "        if rootNode.customList[index] > rootNode.customList[parentIndex]:\n",
    "            temp = rootNode.customList[index]\n",
    "            rootNode.customList[index] = rootNode.customList[parentIndex]\n",
    "            rootNode.customList[parentIndex] = temp\n",
    "        heapifyTreeInsert(rootNode, parentIndex, heapType)\n",
    "\n",
    "def inserNode(rootNode, nodeValue, heapType):\n",
    "    if rootNode.heapSize + 1 == rootNode.maxSize:\n",
    "        return \"The Binary Heap is Full\"\n",
    "    rootNode.customList[rootNode.heapSize + 1] = nodeValue\n",
    "    rootNode.heapSize += 1\n",
    "    heapifyTreeInsert(rootNode, rootNode.heapSize, heapType)\n",
    "    return \"The value has been successfully inserted\"\n",
    "\n",
    "def heapifyTreeExtract(rootNode, index, heapType):\n",
    "    leftIndex = index * 2\n",
    "    rightIndex = index * 2 + 1\n",
    "    swapChild = 0\n",
    "\n",
    "    if rootNode.heapSize < leftIndex:\n",
    "        return\n",
    "    elif rootNode.heapSize == leftIndex:\n",
    "        if heapType == \"Min\":\n",
    "            if rootNode.customList[index] > rootNode.customList[leftIndex]:\n",
    "                temp = rootNode.customList[index]\n",
    "                rootNode.customList[index] = rootNode.customList[leftIndex]\n",
    "                rootNode.customList[leftIndex] = temp\n",
    "            return\n",
    "        else:\n",
    "            if rootNode.customList[index] < rootNode.customList[leftIndex]:\n",
    "                temp = rootNode.customList[index]\n",
    "                rootNode.customList[index] = rootNode.customList[leftIndex]\n",
    "                rootNode.customList[leftIndex] = temp\n",
    "            return\n",
    "\n",
    "    else:\n",
    "        if heapType == \"Min\":\n",
    "            if rootNode.customList[leftIndex] < rootNode.customList[rightIndex]:\n",
    "                swapChild = leftIndex\n",
    "            else:\n",
    "                swapChild = rightIndex\n",
    "            if rootNode.customList[index] > rootNode.customList[swapChild]:\n",
    "                temp = rootNode.customList[index]\n",
    "                rootNode.customList[index] = rootNode.customList[swapChild]\n",
    "                rootNode.customList[swapChild] = temp\n",
    "        else:\n",
    "            if rootNode.customList[leftIndex] > rootNode.customList[rightIndex]:\n",
    "                swapChild = leftIndex\n",
    "            else:\n",
    "                swapChild = rightIndex\n",
    "            if rootNode.customList[index] < rootNode.customList[swapChild]:\n",
    "                temp = rootNode.customList[index]\n",
    "                rootNode.customList[index] = rootNode.customList[swapChild]\n",
    "                rootNode.customList[swapChild] = temp\n",
    "    heapifyTreeExtract(rootNode, swapChild, heapType)\n",
    "\n",
    "def extractNode(rootNode, heapType):\n",
    "    if rootNode.heapSize == 0:\n",
    "        return\n",
    "    else:\n",
    "        extractedNode = rootNode.customList[1]\n",
    "        rootNode.customList[1] = rootNode.customList[rootNode.heapSize]\n",
    "        rootNode.customList[rootNode.heapSize] = None\n",
    "        rootNode.heapSize -= 1\n",
    "        heapifyTreeExtract(rootNode, 1, heapType)\n",
    "        return extractedNode\n",
    "\n",
    "def deleteEntireBP(rootNode):\n",
    "    rootNode.customList = None"
   ]
  },
  {
   "cell_type": "code",
   "execution_count": 3,
   "id": "4e362147",
   "metadata": {},
   "outputs": [
    {
     "data": {
      "text/plain": [
       "'The value has been successfully inserted'"
      ]
     },
     "execution_count": 3,
     "metadata": {},
     "output_type": "execute_result"
    }
   ],
   "source": [
    "newHeap = Heap(5)\n",
    "inserNode(newHeap, 4, \"Max\")\n",
    "inserNode(newHeap, 5, \"Max\")\n",
    "inserNode(newHeap, 2, \"Max\")\n",
    "inserNode(newHeap, 1, \"Max\")"
   ]
  },
  {
   "cell_type": "code",
   "execution_count": 4,
   "id": "6fe22bea",
   "metadata": {},
   "outputs": [
    {
     "name": "stdout",
     "output_type": "stream",
     "text": [
      "5\n",
      "4\n",
      "2\n",
      "1\n"
     ]
    }
   ],
   "source": [
    "levelOrderTraversal(newHeap)"
   ]
  },
  {
   "cell_type": "code",
   "execution_count": 5,
   "id": "4ed30ca6",
   "metadata": {},
   "outputs": [],
   "source": [
    "deleteEntireBP(newHeap)"
   ]
  }
 ],
 "metadata": {
  "kernelspec": {
   "display_name": "Python 3 (ipykernel)",
   "language": "python",
   "name": "python3"
  },
  "language_info": {
   "codemirror_mode": {
    "name": "ipython",
    "version": 3
   },
   "file_extension": ".py",
   "mimetype": "text/x-python",
   "name": "python",
   "nbconvert_exporter": "python",
   "pygments_lexer": "ipython3",
   "version": "3.9.12"
  }
 },
 "nbformat": 4,
 "nbformat_minor": 5
}
