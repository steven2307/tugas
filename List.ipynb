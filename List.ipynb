{
 "cells": [
  {
   "cell_type": "code",
   "execution_count": 1,
   "id": "81f5a7ba",
   "metadata": {},
   "outputs": [],
   "source": [
    "shoppingList = ['Milk','Cheese','Butter']"
   ]
  },
  {
   "cell_type": "code",
   "execution_count": 3,
   "id": "365cb5bb",
   "metadata": {},
   "outputs": [
    {
     "name": "stdout",
     "output_type": "stream",
     "text": [
      "Milk++\n",
      "Cheese++\n",
      "Butter++\n"
     ]
    }
   ],
   "source": [
    "for i in range(len(shoppingList)):\n",
    "    shoppingList[i] = shoppingList[i]+\"+\"\n",
    "    print(shoppingList[i])\n",
    "empty = []\n",
    "for i in empty:\n",
    "    print(\"I am empty\")"
   ]
  },
  {
   "cell_type": "code",
   "execution_count": 10,
   "id": "9cb72644",
   "metadata": {},
   "outputs": [
    {
     "name": "stdout",
     "output_type": "stream",
     "text": [
      "[1, 2, 3, 4, 5, 6, 7]\n"
     ]
    }
   ],
   "source": [
    "myList = [1,2,3,4,5,6,7]\n",
    "print(myList)"
   ]
  },
  {
   "cell_type": "code",
   "execution_count": 11,
   "id": "7c533c22",
   "metadata": {},
   "outputs": [
    {
     "name": "stdout",
     "output_type": "stream",
     "text": [
      "[1, 2, 3, 4, 15, 5, 6, 7]\n"
     ]
    }
   ],
   "source": [
    "myList.insert(4,15)\n",
    "print(myList)"
   ]
  },
  {
   "cell_type": "code",
   "execution_count": 12,
   "id": "73a7e8b3",
   "metadata": {},
   "outputs": [
    {
     "name": "stdout",
     "output_type": "stream",
     "text": [
      "[1, 2, 3, 4, 15, 5, 6, 7, 55]\n"
     ]
    }
   ],
   "source": [
    "myList.append(55)\n",
    "print(myList)"
   ]
  },
  {
   "cell_type": "code",
   "execution_count": 14,
   "id": "5bc7fd09",
   "metadata": {},
   "outputs": [
    {
     "name": "stdout",
     "output_type": "stream",
     "text": [
      "[1, 2, 3, 4, 15, 5, 6, 7, 55, 11, 12, 13, 14]\n"
     ]
    }
   ],
   "source": [
    "newList = [11,12,13,14]\n",
    "myList.extend(newList)\n",
    "print(myList)"
   ]
  },
  {
   "cell_type": "code",
   "execution_count": 27,
   "id": "69ee6b30",
   "metadata": {},
   "outputs": [
    {
     "name": "stdout",
     "output_type": "stream",
     "text": [
      "[10, 20, 30, 40, 50, 60, 70, 80, 90]\n"
     ]
    }
   ],
   "source": [
    "myList = [10,20,30,40,50,60,70,80,90]\n",
    "\n",
    "def searchinList(list,value):\n",
    "    for i in list:\n",
    "        if i == value:\n",
    "            return list.index(value)\n",
    "    return 'The value does not exist in the list'\n",
    "\n",
    "print(myList)"
   ]
  },
  {
   "cell_type": "code",
   "execution_count": 28,
   "id": "4851d6ee",
   "metadata": {},
   "outputs": [
    {
     "name": "stdout",
     "output_type": "stream",
     "text": [
      "8\n"
     ]
    }
   ],
   "source": [
    "print(searchinList(myList,90))"
   ]
  },
  {
   "cell_type": "code",
   "execution_count": 29,
   "id": "cfc2d1ed",
   "metadata": {},
   "outputs": [
    {
     "name": "stdout",
     "output_type": "stream",
     "text": [
      "Enter a number: 1\n",
      "Enter a number: 4\n",
      "Enter a number: 5\n",
      "Enter a number: 5\n",
      "Enter a number: done\n",
      "Average 3.75\n"
     ]
    }
   ],
   "source": [
    "total = 0\n",
    "count = 0\n",
    "while(True):\n",
    "    inp = input('Enter a number: ')\n",
    "    if inp == 'done' : break\n",
    "    value = float(inp)\n",
    "    total = total + value\n",
    "    count = count + 1\n",
    "    average =  total / count\n",
    "print('Average',average)"
   ]
  },
  {
   "cell_type": "code",
   "execution_count": 35,
   "id": "b78b7f8d",
   "metadata": {},
   "outputs": [
    {
     "name": "stdout",
     "output_type": "stream",
     "text": [
      "Enter a number: 777.666\n",
      "Enter a number: 43653.674\n",
      "Enter a number: done\n",
      "Average 22215.67\n"
     ]
    }
   ],
   "source": [
    "numlist = list()\n",
    "while(True):\n",
    "    inp = input('Enter a number: ')\n",
    "    if inp == 'done': break\n",
    "    value = float(inp)\n",
    "    numlist.append(value)\n",
    "average = sum(numlist) / len(numlist)\n",
    "print('Average',average)"
   ]
  },
  {
   "cell_type": "code",
   "execution_count": null,
   "id": "79355890",
   "metadata": {},
   "outputs": [],
   "source": []
  }
 ],
 "metadata": {
  "kernelspec": {
   "display_name": "Python 3 (ipykernel)",
   "language": "python",
   "name": "python3"
  },
  "language_info": {
   "codemirror_mode": {
    "name": "ipython",
    "version": 3
   },
   "file_extension": ".py",
   "mimetype": "text/x-python",
   "name": "python",
   "nbconvert_exporter": "python",
   "pygments_lexer": "ipython3",
   "version": "3.9.12"
  }
 },
 "nbformat": 4,
 "nbformat_minor": 5
}
