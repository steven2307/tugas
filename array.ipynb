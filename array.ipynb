{
 "cells": [
  {
   "cell_type": "code",
   "execution_count": 3,
   "id": "4c7a1d06",
   "metadata": {},
   "outputs": [],
   "source": [
    "import numpy as np"
   ]
  },
  {
   "cell_type": "code",
   "execution_count": 10,
   "id": "b18baaa3",
   "metadata": {},
   "outputs": [
    {
     "name": "stdout",
     "output_type": "stream",
     "text": [
      "[[11 15 10  6]\n",
      " [10 14 11  5]\n",
      " [12 17 12  8]\n",
      " [15 18 14  9]]\n"
     ]
    }
   ],
   "source": [
    "twoDArray = np.array([[11,15,10,6],[10,14,11,5],[12,17,12,8],[15,18,14,9]])\n",
    "print(twoDArray)"
   ]
  },
  {
   "cell_type": "code",
   "execution_count": 13,
   "id": "82157486",
   "metadata": {},
   "outputs": [
    {
     "name": "stdout",
     "output_type": "stream",
     "text": [
      "[[11 15 10  6]\n",
      " [ 1  2  3  4]\n",
      " [10 14 11  5]\n",
      " [12 17 12  8]\n",
      " [15 18 14  9]]\n"
     ]
    }
   ],
   "source": [
    "newTwoDArray = np.insert(twoDArray,1,[[1,2,3,4]],axis=0)\n",
    "print(newTwoDArray)"
   ]
  },
  {
   "cell_type": "code",
   "execution_count": 14,
   "id": "0a532bda",
   "metadata": {},
   "outputs": [
    {
     "name": "stdout",
     "output_type": "stream",
     "text": [
      "4\n"
     ]
    }
   ],
   "source": [
    "print(len(twoDArray))"
   ]
  },
  {
   "cell_type": "code",
   "execution_count": 17,
   "id": "7167e38b",
   "metadata": {},
   "outputs": [
    {
     "name": "stdout",
     "output_type": "stream",
     "text": [
      "[[11 15 10  6]\n",
      " [10 14 11  5]\n",
      " [12 17 12  8]\n",
      " [15 18 14  9]\n",
      " [ 1  2  3  4]]\n"
     ]
    }
   ],
   "source": [
    "newTwoDArray = np.append(twoDArray,[[1,2,3,4]],axis=0)\n",
    "print(newTwoDArray)"
   ]
  },
  {
   "cell_type": "code",
   "execution_count": 18,
   "id": "30b46744",
   "metadata": {},
   "outputs": [
    {
     "name": "stdout",
     "output_type": "stream",
     "text": [
      "5\n"
     ]
    }
   ],
   "source": [
    "print(len(newTwoDArray))"
   ]
  },
  {
   "cell_type": "code",
   "execution_count": 19,
   "id": "b49bb617",
   "metadata": {},
   "outputs": [
    {
     "name": "stdout",
     "output_type": "stream",
     "text": [
      "4\n"
     ]
    }
   ],
   "source": [
    "print(len(newTwoDArray[0]))"
   ]
  },
  {
   "cell_type": "code",
   "execution_count": 23,
   "id": "7f3f33c4",
   "metadata": {},
   "outputs": [],
   "source": [
    "def accsessElements(array,rowIndex,colIndex):\n",
    "    if rowIndex >= len(array) or colIndex >= len(array[0]):\n",
    "        print('Incorrect Index')\n",
    "    else:\n",
    "        print(array[rowIndex][colIndex])"
   ]
  },
  {
   "cell_type": "code",
   "execution_count": 28,
   "id": "af68c8d1",
   "metadata": {},
   "outputs": [
    {
     "name": "stdout",
     "output_type": "stream",
     "text": [
      "11\n"
     ]
    }
   ],
   "source": [
    "accsessElements(newTwoDArray,1,2)"
   ]
  },
  {
   "cell_type": "code",
   "execution_count": 32,
   "id": "4eec89cd",
   "metadata": {},
   "outputs": [],
   "source": [
    "def traverseTDArray(array):\n",
    "    for i in range(len(array)):\n",
    "        for j in range (len(array[0])):\n",
    "            print(array[i][j])"
   ]
  },
  {
   "cell_type": "code",
   "execution_count": 33,
   "id": "737f5102",
   "metadata": {},
   "outputs": [
    {
     "name": "stdout",
     "output_type": "stream",
     "text": [
      "11\n",
      "15\n",
      "10\n",
      "6\n",
      "10\n",
      "14\n",
      "11\n",
      "5\n",
      "12\n",
      "17\n",
      "12\n",
      "8\n",
      "15\n",
      "18\n",
      "14\n",
      "9\n"
     ]
    }
   ],
   "source": [
    "traverseTDArray(twoDArray)"
   ]
  },
  {
   "cell_type": "code",
   "execution_count": 42,
   "id": "41abf7cf",
   "metadata": {},
   "outputs": [],
   "source": [
    "def searchTDArray(array,value):\n",
    "    for i in range(len(array)):\n",
    "        for j in range(len(array[0])):\n",
    "            if array[i][j] == value:\n",
    "                return 'The value is locateed index ' +str(i)+\" \"+str(j)\n",
    "    return 'The element is not found'"
   ]
  },
  {
   "cell_type": "code",
   "execution_count": 43,
   "id": "8eb80518",
   "metadata": {},
   "outputs": [
    {
     "name": "stdout",
     "output_type": "stream",
     "text": [
      "[[11 15 10  6]\n",
      " [10 14 11  5]\n",
      " [12 17 12  8]\n",
      " [15 18 14  9]]\n"
     ]
    }
   ],
   "source": [
    "print(twoDArray)"
   ]
  },
  {
   "cell_type": "code",
   "execution_count": 44,
   "id": "f36f8da8",
   "metadata": {},
   "outputs": [
    {
     "name": "stdout",
     "output_type": "stream",
     "text": [
      "The value is locateed index 2 0\n"
     ]
    }
   ],
   "source": [
    "print(searchTDArray(twoDArray,12))"
   ]
  },
  {
   "cell_type": "code",
   "execution_count": 45,
   "id": "00b2ef08",
   "metadata": {},
   "outputs": [
    {
     "name": "stdout",
     "output_type": "stream",
     "text": [
      "[[11 15 10  6]\n",
      " [10 14 11  5]\n",
      " [15 18 14  9]]\n"
     ]
    }
   ],
   "source": [
    "newTDArray = np.delete(twoDArray,2,axis=0)\n",
    "print(newTDArray)"
   ]
  },
  {
   "cell_type": "code",
   "execution_count": 46,
   "id": "e81f1559",
   "metadata": {},
   "outputs": [
    {
     "name": "stdout",
     "output_type": "stream",
     "text": [
      "[[11 15 10  6]\n",
      " [10 14 11  5]\n",
      " [12 17 12  8]\n",
      " [15 18 14  9]]\n"
     ]
    }
   ],
   "source": [
    "print(twoDArray)"
   ]
  },
  {
   "cell_type": "code",
   "execution_count": null,
   "id": "c9ecc4be",
   "metadata": {},
   "outputs": [],
   "source": []
  }
 ],
 "metadata": {
  "kernelspec": {
   "display_name": "Python 3 (ipykernel)",
   "language": "python",
   "name": "python3"
  },
  "language_info": {
   "codemirror_mode": {
    "name": "ipython",
    "version": 3
   },
   "file_extension": ".py",
   "mimetype": "text/x-python",
   "name": "python",
   "nbconvert_exporter": "python",
   "pygments_lexer": "ipython3",
   "version": "3.9.12"
  }
 },
 "nbformat": 4,
 "nbformat_minor": 5
}
