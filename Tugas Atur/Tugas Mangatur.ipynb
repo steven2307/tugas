{
 "cells": [
  {
   "cell_type": "code",
   "execution_count": 1,
   "id": "ba9e8c03",
   "metadata": {},
   "outputs": [
    {
     "name": "stdout",
     "output_type": "stream",
     "text": [
      "hello,world\n"
     ]
    }
   ],
   "source": [
    "print ('hello,world')"
   ]
  },
  {
   "cell_type": "code",
   "execution_count": 5,
   "id": "1e6ba7fb",
   "metadata": {},
   "outputs": [],
   "source": [
    "length = 10\n",
    "width = 2\n",
    "area= length * width"
   ]
  },
  {
   "cell_type": "code",
   "execution_count": 6,
   "id": "f1c86dd5",
   "metadata": {},
   "outputs": [],
   "source": [
    "x = 10\n",
    "y = 2\n",
    "a = x * y"
   ]
  },
  {
   "cell_type": "code",
   "execution_count": null,
   "id": "f2773172",
   "metadata": {},
   "outputs": [],
   "source": []
  }
 ],
 "metadata": {
  "kernelspec": {
   "display_name": "Python 3 (ipykernel)",
   "language": "python",
   "name": "python3"
  },
  "language_info": {
   "codemirror_mode": {
    "name": "ipython",
    "version": 3
   },
   "file_extension": ".py",
   "mimetype": "text/x-python",
   "name": "python",
   "nbconvert_exporter": "python",
   "pygments_lexer": "ipython3",
   "version": "3.9.12"
  }
 },
 "nbformat": 4,
 "nbformat_minor": 5
}
