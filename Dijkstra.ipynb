{
 "cells": [
  {
   "cell_type": "code",
   "execution_count": 1,
   "id": "4d95a364",
   "metadata": {},
   "outputs": [],
   "source": [
    "import heapq"
   ]
  },
  {
   "cell_type": "code",
   "execution_count": 2,
   "id": "a887ed03",
   "metadata": {},
   "outputs": [],
   "source": [
    "class Edge:\n",
    "    def __init__(self, weight, start_vertex, target_vertex):\n",
    "        self.weight = weight\n",
    "        self.start_vertex = start_vertex\n",
    "        self.target_vertex = target_vertex"
   ]
  },
  {
   "cell_type": "code",
   "execution_count": 3,
   "id": "2f12d279",
   "metadata": {},
   "outputs": [],
   "source": [
    "class Node:\n",
    "    def __init__(self, name):\n",
    "        self.name = name\n",
    "        self.visited = False\n",
    "        # previous node that we come to this node\n",
    "        self.predecessor = None\n",
    "        self.neighbors = []\n",
    "        self.min_distance = float(\"inf\")\n",
    "    \n",
    "    def __lt__(self, other_node):\n",
    "        return self.min_distance < other_node.min_distance\n",
    "    \n",
    "    def add_edge(self, weight, destination_vertex):\n",
    "        edge = Edge(weight, self, destination_vertex)\n",
    "        self.neighbors.append(edge)"
   ]
  },
  {
   "cell_type": "code",
   "execution_count": 4,
   "id": "9d913365",
   "metadata": {},
   "outputs": [],
   "source": [
    "class Dijkstra:\n",
    "    def __init__(self):\n",
    "        self.heap = []\n",
    "    \n",
    "    def calculate(self, start_vertex):\n",
    "        start_vertex.min_distance = 0\n",
    "        heapq.heappush(self.heap, start_vertex)\n",
    "        \n",
    "        while self.heap:\n",
    "            # pop element with the lowest distance\n",
    "            actual_vertex = heapq.heappop(self.heap)\n",
    "            if actual_vertex.visited:\n",
    "                continue\n",
    "            #  consider the neighbors\n",
    "            for edge in actual_vertex.neighbors:\n",
    "                start = edge.start_vertex\n",
    "                target = edge.target_vertex\n",
    "                new_distance = start.min_distance + edge.weight\n",
    "                if new_distance < target.min_distance:\n",
    "                    target.min_distance = new_distance\n",
    "                    target.predecessor = start\n",
    "                    # update the heap\n",
    "                    heapq.heappush(self.heap, target)\n",
    "                    # [F-19, F-17]\n",
    "            actual_vertex.visited = True\n",
    "    \n",
    "    def get_shortest_path(self, vertex):\n",
    "        print(f\"The shortest path to the vertext is: {vertex.min_distance}\")\n",
    "        actual_vertex = vertex\n",
    "        while actual_vertex is not None:\n",
    "            print(actual_vertex.name, end=\" \")\n",
    "            actual_vertex = actual_vertex.predecessor"
   ]
  },
  {
   "cell_type": "code",
   "execution_count": 5,
   "id": "0ba77652",
   "metadata": {},
   "outputs": [],
   "source": [
    "# Step 1 - create nodes\n",
    "nodeA = Node(\"A\")\n",
    "nodeB = Node(\"B\")\n",
    "nodeC = Node(\"C\")\n",
    "nodeD = Node(\"D\")\n",
    "nodeE = Node(\"E\")\n",
    "nodeF = Node(\"F\")\n",
    "nodeG = Node(\"G\")\n",
    "nodeH = Node(\"H\")\n",
    "\n",
    "# Step 2 - create edges\n",
    "nodeA.add_edge(6, nodeB)\n",
    "nodeA.add_edge(10, nodeC)\n",
    "nodeA.add_edge(9, nodeD)\n",
    "\n",
    "nodeB.add_edge(5, nodeD)\n",
    "nodeB.add_edge(16, nodeE)\n",
    "nodeB.add_edge(13, nodeF)\n",
    "\n",
    "nodeC.add_edge(6, nodeD)\n",
    "nodeC.add_edge(5, nodeH)\n",
    "nodeC.add_edge(21, nodeG)\n",
    "\n",
    "nodeD.add_edge(8, nodeF)\n",
    "nodeD.add_edge(7, nodeH)\n",
    "\n",
    "nodeE.add_edge(10, nodeG)\n",
    "\n",
    "nodeF.add_edge(4, nodeE)\n",
    "nodeF.add_edge(12, nodeG)\n",
    "\n",
    "nodeH.add_edge(2, nodeF)\n",
    "nodeH.add_edge(14, nodeG)"
   ]
  },
  {
   "cell_type": "code",
   "execution_count": 6,
   "id": "8b1aad7a",
   "metadata": {},
   "outputs": [
    {
     "name": "stdout",
     "output_type": "stream",
     "text": [
      "The shortest path to the vertext is: 29\n",
      "G H C A "
     ]
    }
   ],
   "source": [
    "algorithm = Dijkstra()\n",
    "algorithm.calculate(nodeA)\n",
    "algorithm.get_shortest_path(nodeG)"
   ]
  }
 ],
 "metadata": {
  "kernelspec": {
   "display_name": "Python 3 (ipykernel)",
   "language": "python",
   "name": "python3"
  },
  "language_info": {
   "codemirror_mode": {
    "name": "ipython",
    "version": 3
   },
   "file_extension": ".py",
   "mimetype": "text/x-python",
   "name": "python",
   "nbconvert_exporter": "python",
   "pygments_lexer": "ipython3",
   "version": "3.9.12"
  }
 },
 "nbformat": 4,
 "nbformat_minor": 5
}
