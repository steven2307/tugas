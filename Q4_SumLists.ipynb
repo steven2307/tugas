{
 "cells": [
  {
   "cell_type": "code",
   "execution_count": 1,
   "id": "9cdec6c0",
   "metadata": {},
   "outputs": [],
   "source": [
    "from random import randint"
   ]
  },
  {
   "cell_type": "code",
   "execution_count": 2,
   "id": "5587fc54",
   "metadata": {},
   "outputs": [],
   "source": [
    "class Node:\n",
    "    def __init__(self, value=None):\n",
    "        self.value = value\n",
    "        self.next = None\n",
    "        self.prev = None\n",
    "        \n",
    "    def __str__(self):\n",
    "        return str(self.value)"
   ]
  },
  {
   "cell_type": "code",
   "execution_count": 3,
   "id": "2aabffdd",
   "metadata": {},
   "outputs": [],
   "source": [
    "class LinkedList:\n",
    "    def __init__(self, values = None):\n",
    "        self.head = None\n",
    "        self.tail = None\n",
    "    \n",
    "    def __iter__(self):\n",
    "        curNode = self.head\n",
    "        while curNode:\n",
    "            yield curNode\n",
    "            curNode = curNode.next\n",
    "    \n",
    "    def __str__(self):\n",
    "        values = [str(x.value) for x in self]\n",
    "        return ' -> '.join(values)\n",
    "    \n",
    "    def __len__(self):\n",
    "        result = 0\n",
    "        node = self.head\n",
    "        while node:\n",
    "            result += 1\n",
    "            node = node.next\n",
    "        return result\n",
    "    \n",
    "    def add(self, value):\n",
    "        if self.head is None:\n",
    "            newNode = Node(value)\n",
    "            self.head = newNode\n",
    "            self.tail = newNode\n",
    "        else:\n",
    "            self.tail.next = Node(value)\n",
    "            self.tail = self.tail.next\n",
    "        return self.tail"
   ]
  },
  {
   "cell_type": "code",
   "execution_count": 4,
   "id": "d0dfd160",
   "metadata": {},
   "outputs": [],
   "source": [
    "def sumList(llA, llB):\n",
    "    n1 = llA.head\n",
    "    n2 = llB.head\n",
    "    carry = 0\n",
    "    ll = LinkedList()\n",
    "    while n1 or n2:\n",
    "        result = carry\n",
    "        if n1:\n",
    "            result += n1.value\n",
    "            n1 = n1.next\n",
    "        if n2:\n",
    "            result += n2.value\n",
    "            n2 = n2.next\n",
    "        ll.add(int(result % 10))\n",
    "        carry = result // 10\n",
    "\n",
    "    return ll"
   ]
  },
  {
   "cell_type": "code",
   "execution_count": 5,
   "id": "1fe7e594",
   "metadata": {},
   "outputs": [
    {
     "data": {
      "text/plain": [
       "<__main__.Node at 0x189e7843f10>"
      ]
     },
     "execution_count": 5,
     "metadata": {},
     "output_type": "execute_result"
    }
   ],
   "source": [
    "llA = LinkedList()\n",
    "llA.add(7)\n",
    "llA.add(1)\n",
    "llA.add(6)\n",
    "\n",
    "\n",
    "llB = LinkedList()\n",
    "llB.add(5)\n",
    "llB.add(9)\n",
    "llB.add(2)"
   ]
  },
  {
   "cell_type": "code",
   "execution_count": 6,
   "id": "f41b6a77",
   "metadata": {},
   "outputs": [
    {
     "name": "stdout",
     "output_type": "stream",
     "text": [
      "7 -> 1 -> 6\n",
      "5 -> 9 -> 2\n"
     ]
    }
   ],
   "source": [
    "print(llA)\n",
    "print(llB)"
   ]
  },
  {
   "cell_type": "code",
   "execution_count": 7,
   "id": "f215d75d",
   "metadata": {},
   "outputs": [
    {
     "name": "stdout",
     "output_type": "stream",
     "text": [
      "2 -> 1 -> 9\n"
     ]
    }
   ],
   "source": [
    "print(sumList(llA, llB))"
   ]
  }
 ],
 "metadata": {
  "kernelspec": {
   "display_name": "Python 3 (ipykernel)",
   "language": "python",
   "name": "python3"
  },
  "language_info": {
   "codemirror_mode": {
    "name": "ipython",
    "version": 3
   },
   "file_extension": ".py",
   "mimetype": "text/x-python",
   "name": "python",
   "nbconvert_exporter": "python",
   "pygments_lexer": "ipython3",
   "version": "3.9.12"
  }
 },
 "nbformat": 4,
 "nbformat_minor": 5
}
