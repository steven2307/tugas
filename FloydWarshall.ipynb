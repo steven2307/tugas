{
 "cells": [
  {
   "cell_type": "code",
   "execution_count": 1,
   "id": "e23be47d",
   "metadata": {},
   "outputs": [],
   "source": [
    "INF = 9999\n",
    "def printSolution(nV, distance):\n",
    "    for i in range(nV):\n",
    "        for j in range(nV):\n",
    "            if(distance[i][j] == INF):\n",
    "                print(\"INF\", end=\" \")\n",
    "            else:\n",
    "                print(distance[i][j], end=\"  \")\n",
    "        print(\" \")\n",
    "\n",
    "\n",
    "def floydWarshall(nV, G):\n",
    "    distance = G\n",
    "    for k in range(nV):\n",
    "        for i in range(nV):\n",
    "            for j in range(nV):\n",
    "                distance[i][j] = min(distance[i][j], distance[i][k]+distance[k][j])\n",
    "    \n",
    "    printSolution(nV, distance)"
   ]
  },
  {
   "cell_type": "code",
   "execution_count": 2,
   "id": "6b3b3268",
   "metadata": {},
   "outputs": [
    {
     "name": "stdout",
     "output_type": "stream",
     "text": [
      "0  3  4  1   \n",
      "5  0  1  6   \n",
      "4  7  0  5   \n",
      "7  2  3  1   \n"
     ]
    }
   ],
   "source": [
    "G = [[0, 8, INF,1],\n",
    "    [INF, 0, 1,INF],\n",
    "    [4, INF, 0,INF],\n",
    "    [INF, 2, 9,1]\n",
    "    ]\n",
    "\n",
    "floydWarshall(4, G)"
   ]
  }
 ],
 "metadata": {
  "kernelspec": {
   "display_name": "Python 3 (ipykernel)",
   "language": "python",
   "name": "python3"
  },
  "language_info": {
   "codemirror_mode": {
    "name": "ipython",
    "version": 3
   },
   "file_extension": ".py",
   "mimetype": "text/x-python",
   "name": "python",
   "nbconvert_exporter": "python",
   "pygments_lexer": "ipython3",
   "version": "3.9.12"
  }
 },
 "nbformat": 4,
 "nbformat_minor": 5
}
