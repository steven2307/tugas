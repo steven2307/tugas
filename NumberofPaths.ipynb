{
 "cells": [
  {
   "cell_type": "code",
   "execution_count": 1,
   "id": "36b5e5b5",
   "metadata": {},
   "outputs": [],
   "source": [
    "def numberOfPaths(twoDArray, row, col, cost):\n",
    "    if cost < 0:\n",
    "        return 0\n",
    "    elif row == 0 and col == 0:\n",
    "        if twoDArray[0][0] - cost == 0:\n",
    "            return 1\n",
    "        else:\n",
    "            return 0\n",
    "    elif row == 0:\n",
    "        return numberOfPaths(twoDArray, 0, col-1, cost - twoDArray[row][col] )\n",
    "    elif col == 0:\n",
    "        return numberOfPaths(twoDArray, row-1, 0, cost - twoDArray[row][col] )\n",
    "    else:\n",
    "        op1 = numberOfPaths(twoDArray, row -1, col, cost - twoDArray[row][col] )\n",
    "        op2 = numberOfPaths(twoDArray, row, col-1, cost - twoDArray[row][col] )\n",
    "        return op1 + op2"
   ]
  },
  {
   "cell_type": "code",
   "execution_count": 2,
   "id": "9985df35",
   "metadata": {},
   "outputs": [
    {
     "name": "stdout",
     "output_type": "stream",
     "text": [
      "2\n"
     ]
    }
   ],
   "source": [
    "TwoDList = [[4,7,1,6],\n",
    "           [5,7,3,9],\n",
    "           [3,2,1,2],\n",
    "           [7,1,6,3]\n",
    "           ]\n",
    "\n",
    "print(numberOfPaths(TwoDList, 3,3, 25))"
   ]
  }
 ],
 "metadata": {
  "kernelspec": {
   "display_name": "Python 3 (ipykernel)",
   "language": "python",
   "name": "python3"
  },
  "language_info": {
   "codemirror_mode": {
    "name": "ipython",
    "version": 3
   },
   "file_extension": ".py",
   "mimetype": "text/x-python",
   "name": "python",
   "nbconvert_exporter": "python",
   "pygments_lexer": "ipython3",
   "version": "3.9.12"
  }
 },
 "nbformat": 4,
 "nbformat_minor": 5
}
