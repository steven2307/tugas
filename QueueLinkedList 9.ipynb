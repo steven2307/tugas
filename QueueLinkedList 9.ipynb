{
 "cells": [
  {
   "cell_type": "code",
   "execution_count": 1,
   "id": "0970ded5",
   "metadata": {},
   "outputs": [],
   "source": [
    "class Node:\n",
    "    def __init__(self, value=None):\n",
    "        self.value = value\n",
    "        self.next = None\n",
    "    \n",
    "    def __str__(self):\n",
    "        return str(self.value)\n",
    "\n",
    "class LinkedList:\n",
    "    def __init__(self):\n",
    "        self.head = None\n",
    "        self.tail = None\n",
    "    \n",
    "    def __iter__(self):\n",
    "        curNode = self.head\n",
    "        while curNode:\n",
    "            yield curNode\n",
    "            curNode = curNode.next\n",
    "\n",
    "class Queue:\n",
    "    def __init__(self):\n",
    "        self.linkedList = LinkedList()\n",
    "    \n",
    "    def __str__(self):\n",
    "        values = [str(x) for x in self.linkedList]\n",
    "        return ' '.join(values)\n",
    "    \n",
    "    def enqueue(self, value):\n",
    "        newNode = Node(value)\n",
    "        if self.linkedList.head == None:\n",
    "            self.linkedList.head = newNode\n",
    "            self.linkedList.tail = newNode\n",
    "        else:\n",
    "            self.linkedList.tail.next = newNode\n",
    "            self.linkedList.tail = newNode\n",
    "    \n",
    "    def isEmpty(self):\n",
    "        if self.linkedList.head == None:\n",
    "            return True\n",
    "        else:\n",
    "            return False\n",
    "    \n",
    "    def dequeue(self):\n",
    "        if self.isEmpty():\n",
    "            return \"There is not any node in the Queue\"\n",
    "        else:\n",
    "            tempNode = self.linkedList.head\n",
    "            if self.linkedList.head == self.linkedList.tail:\n",
    "                self.linkedList.head = None\n",
    "                self.linkedList.tail = None\n",
    "            else:\n",
    "                self.linkedList.head = self.linkedList.head.next\n",
    "            return tempNode\n",
    "    \n",
    "    def peek(self):\n",
    "        if self.isEmpty():\n",
    "            return \"There is not any node in the Queue\"\n",
    "        else:\n",
    "            return self.linkedList.head\n",
    "    \n",
    "    def delete(self):\n",
    "        self.linkedList.head = None\n",
    "        self.linkedList.tail = None"
   ]
  },
  {
   "cell_type": "code",
   "execution_count": 2,
   "id": "9f8f13ab",
   "metadata": {},
   "outputs": [
    {
     "name": "stdout",
     "output_type": "stream",
     "text": [
      "1 2 3\n"
     ]
    }
   ],
   "source": [
    "custQueue = Queue()\n",
    "custQueue.enqueue(1)\n",
    "custQueue.enqueue(2)\n",
    "custQueue.enqueue(3)\n",
    "print(custQueue)"
   ]
  },
  {
   "cell_type": "code",
   "execution_count": 3,
   "id": "6b387ec9",
   "metadata": {},
   "outputs": [
    {
     "name": "stdout",
     "output_type": "stream",
     "text": [
      "1\n"
     ]
    }
   ],
   "source": [
    "print(custQueue.peek())"
   ]
  },
  {
   "cell_type": "code",
   "execution_count": 4,
   "id": "18457210",
   "metadata": {},
   "outputs": [
    {
     "name": "stdout",
     "output_type": "stream",
     "text": [
      "1 2 3\n"
     ]
    }
   ],
   "source": [
    "print(custQueue)"
   ]
  }
 ],
 "metadata": {
  "kernelspec": {
   "display_name": "Python 3 (ipykernel)",
   "language": "python",
   "name": "python3"
  },
  "language_info": {
   "codemirror_mode": {
    "name": "ipython",
    "version": 3
   },
   "file_extension": ".py",
   "mimetype": "text/x-python",
   "name": "python",
   "nbconvert_exporter": "python",
   "pygments_lexer": "ipython3",
   "version": "3.9.12"
  }
 },
 "nbformat": 4,
 "nbformat_minor": 5
}
