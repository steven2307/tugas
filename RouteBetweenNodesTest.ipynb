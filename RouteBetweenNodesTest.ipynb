{
 "cells": [
  {
   "cell_type": "code",
   "execution_count": 1,
   "id": "ccb34d0f",
   "metadata": {},
   "outputs": [
    {
     "name": "stdout",
     "output_type": "stream",
     "text": [
      "['a', 'c', 'd', 'b', 'g', 'j']\n"
     ]
    }
   ],
   "source": [
    "class Graph:\n",
    "    def __init__(self, gdict=None):\n",
    "        if gdict is None:\n",
    "            gdict = {}\n",
    "        self.gdict = gdict\n",
    "    \n",
    "    def addEdge(self, vertex, edge):\n",
    "        self.gdict[vertex].append(edge)\n",
    "    \n",
    "    def checkRoute(self, startNode, endNode):\n",
    "        visited = []\n",
    "        queue = [startNode]\n",
    "        path = []\n",
    "        \n",
    "        while queue:\n",
    "            deVertex = queue.pop(0)\n",
    "            path.append(deVertex)\n",
    "            if deVertex == endNode:\n",
    "                return path\n",
    "            if deVertex not in visited:\n",
    "                visited.append(deVertex)\n",
    "                queue.extend(self.gdict[deVertex])\n",
    "        \n",
    "        return None\n",
    "\n",
    "customDict = {\n",
    "    \"a\": [\"c\", \"d\", \"b\"],\n",
    "    \"b\": [\"j\"],\n",
    "    \"c\": [\"g\"],\n",
    "    \"d\": [],\n",
    "    \"e\": [\"f\", \"a\"],\n",
    "    \"f\": [\"i\"],\n",
    "    \"g\": [\"d\", \"h\"],\n",
    "    \"h\": [],\n",
    "    \"i\": [],\n",
    "    \"j\": []\n",
    "}\n",
    "\n",
    "g = Graph(customDict)\n",
    "print(g.checkRoute(\"a\", \"j\"))"
   ]
  }
 ],
 "metadata": {
  "kernelspec": {
   "display_name": "Python 3 (ipykernel)",
   "language": "python",
   "name": "python3"
  },
  "language_info": {
   "codemirror_mode": {
    "name": "ipython",
    "version": 3
   },
   "file_extension": ".py",
   "mimetype": "text/x-python",
   "name": "python",
   "nbconvert_exporter": "python",
   "pygments_lexer": "ipython3",
   "version": "3.9.12"
  }
 },
 "nbformat": 4,
 "nbformat_minor": 5
}
