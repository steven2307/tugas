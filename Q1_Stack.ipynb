{
 "cells": [
  {
   "cell_type": "code",
   "execution_count": 1,
   "id": "5820956b",
   "metadata": {},
   "outputs": [],
   "source": [
    "class MultiStack:\n",
    "    def __init__(self, stacksize):\n",
    "        self.numberstacks = 3\n",
    "        self.custList = [0] * (stacksize * self.numberstacks)\n",
    "        self.sizes = [0] * self.numberstacks\n",
    "        self.stacksize = stacksize\n",
    "    \n",
    "    def isFull(self, stacknum):\n",
    "        if self.sizes[stacknum] == self.stacksize:\n",
    "            return True\n",
    "        else:\n",
    "            return False\n",
    "    \n",
    "    def isEmpty(self, stacknum):\n",
    "        if self.sizes[stacknum] == 0:\n",
    "            return True\n",
    "        else:\n",
    "            return False\n",
    "    \n",
    "    def indexOfTop(self, stacknum):\n",
    "        offset = stacknum * self.stacksize\n",
    "        return offset + self.sizes[stacknum]- 1\n",
    "    \n",
    "    def push(self, item, stacknum):\n",
    "        if self.isFull(stacknum):\n",
    "            return \"The stack is full\"\n",
    "        else:\n",
    "            self.sizes[stacknum] += 1\n",
    "            self.custList[self.indexOfTop(stacknum)] = item\n",
    "    \n",
    "    def pop(self, stacknum):\n",
    "        if self.isEmpty(stacknum):\n",
    "            return \"The stack is empty\"\n",
    "        else:\n",
    "            value = self.custList[self.indexOfTop(stacknum)]\n",
    "            self.custList[self.indexOfTop(stacknum)] = 0\n",
    "            self.sizes[stacknum] -= 1\n",
    "            return value\n",
    "    \n",
    "    def peek(self, stacknum):\n",
    "        if self.isEmpty(stacknum):\n",
    "            return \"The stack is empty\"\n",
    "        else:\n",
    "            value = self.custList[self.indexOfTop(stacknum)]\n",
    "            return value"
   ]
  },
  {
   "cell_type": "code",
   "execution_count": 2,
   "id": "9e4b05cf",
   "metadata": {},
   "outputs": [
    {
     "name": "stdout",
     "output_type": "stream",
     "text": [
      "False\n"
     ]
    }
   ],
   "source": [
    "customStack = MultiStack(6)\n",
    "print(customStack.isFull(0))"
   ]
  },
  {
   "cell_type": "code",
   "execution_count": 3,
   "id": "7320bb22",
   "metadata": {},
   "outputs": [
    {
     "name": "stdout",
     "output_type": "stream",
     "text": [
      "True\n"
     ]
    }
   ],
   "source": [
    "print(customStack.isEmpty(1))"
   ]
  },
  {
   "cell_type": "code",
   "execution_count": 4,
   "id": "b2c2f4dc",
   "metadata": {},
   "outputs": [
    {
     "name": "stdout",
     "output_type": "stream",
     "text": [
      "2\n"
     ]
    }
   ],
   "source": [
    "customStack.push(1, 0)\n",
    "customStack.push(2, 0)\n",
    "customStack.push(3, 2)\n",
    "print(customStack.pop(0))"
   ]
  }
 ],
 "metadata": {
  "kernelspec": {
   "display_name": "Python 3 (ipykernel)",
   "language": "python",
   "name": "python3"
  },
  "language_info": {
   "codemirror_mode": {
    "name": "ipython",
    "version": 3
   },
   "file_extension": ".py",
   "mimetype": "text/x-python",
   "name": "python",
   "nbconvert_exporter": "python",
   "pygments_lexer": "ipython3",
   "version": "3.9.12"
  }
 },
 "nbformat": 4,
 "nbformat_minor": 5
}
