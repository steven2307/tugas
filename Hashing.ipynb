{
 "cells": [
  {
   "cell_type": "code",
   "execution_count": 1,
   "id": "4488f36b",
   "metadata": {},
   "outputs": [],
   "source": [
    "def mod(number, cellNumber):\n",
    "    return number % cellNumber"
   ]
  },
  {
   "cell_type": "code",
   "execution_count": 2,
   "id": "f53e6e38",
   "metadata": {},
   "outputs": [
    {
     "name": "stdout",
     "output_type": "stream",
     "text": [
      "16\n"
     ]
    }
   ],
   "source": [
    "print(mod(400, 24))"
   ]
  },
  {
   "cell_type": "code",
   "execution_count": 3,
   "id": "c53fb51c",
   "metadata": {},
   "outputs": [],
   "source": [
    "def modASCII(string, cellNumber):\n",
    "    total = 0\n",
    "    for i in string:\n",
    "        total += ord(i)\n",
    "    return total % cellNumber"
   ]
  },
  {
   "cell_type": "code",
   "execution_count": 4,
   "id": "0cdaccff",
   "metadata": {},
   "outputs": [
    {
     "name": "stdout",
     "output_type": "stream",
     "text": [
      "6\n"
     ]
    }
   ],
   "source": [
    "print(modASCII(\"ABC\", 24))"
   ]
  }
 ],
 "metadata": {
  "kernelspec": {
   "display_name": "Python 3 (ipykernel)",
   "language": "python",
   "name": "python3"
  },
  "language_info": {
   "codemirror_mode": {
    "name": "ipython",
    "version": 3
   },
   "file_extension": ".py",
   "mimetype": "text/x-python",
   "name": "python",
   "nbconvert_exporter": "python",
   "pygments_lexer": "ipython3",
   "version": "3.9.12"
  }
 },
 "nbformat": 4,
 "nbformat_minor": 5
}
