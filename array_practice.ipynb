{
 "cells": [
  {
   "cell_type": "markdown",
   "id": "8854acd2",
   "metadata": {},
   "source": [
    "# 1. Create an array and traverse. "
   ]
  },
  {
   "cell_type": "code",
   "execution_count": 2,
   "id": "9786f1d0",
   "metadata": {},
   "outputs": [],
   "source": [
    "import numpy as np"
   ]
  },
  {
   "cell_type": "code",
   "execution_count": 5,
   "id": "3df78f24",
   "metadata": {},
   "outputs": [
    {
     "name": "stdout",
     "output_type": "stream",
     "text": [
      "[1 2 3 4 5]\n"
     ]
    }
   ],
   "source": [
    "my_array = np.array([1,2,3,4,5])\n",
    "print (my_array)"
   ]
  },
  {
   "cell_type": "code",
   "execution_count": 6,
   "id": "26e516ff",
   "metadata": {},
   "outputs": [],
   "source": [
    "def traversearray(array):\n",
    "    for i in range(len(array)):\n",
    "            print (array[i])"
   ]
  },
  {
   "cell_type": "code",
   "execution_count": 7,
   "id": "b3042b21",
   "metadata": {},
   "outputs": [
    {
     "name": "stdout",
     "output_type": "stream",
     "text": [
      "1\n",
      "2\n",
      "3\n",
      "4\n",
      "5\n"
     ]
    }
   ],
   "source": [
    "traversearray(my_array)"
   ]
  },
  {
   "cell_type": "markdown",
   "id": "aa8fdc39",
   "metadata": {},
   "source": [
    "# 2. Access individual elements through indexes"
   ]
  },
  {
   "cell_type": "code",
   "execution_count": 8,
   "id": "3cc5f87a",
   "metadata": {},
   "outputs": [],
   "source": [
    "def accsessElements(array,rowIndex):\n",
    "    if rowIndex >= len(array):\n",
    "        print('Incorrect Index')\n",
    "    else:\n",
    "        print(array[rowIndex])"
   ]
  },
  {
   "cell_type": "code",
   "execution_count": 9,
   "id": "1de2aaa1",
   "metadata": {},
   "outputs": [
    {
     "name": "stdout",
     "output_type": "stream",
     "text": [
      "4\n"
     ]
    }
   ],
   "source": [
    "accsessElements (my_array,3)"
   ]
  },
  {
   "cell_type": "markdown",
   "id": "0eec90ce",
   "metadata": {},
   "source": [
    "# 3. Append any value to the array using append() method"
   ]
  },
  {
   "cell_type": "code",
   "execution_count": 10,
   "id": "da32289d",
   "metadata": {},
   "outputs": [
    {
     "name": "stdout",
     "output_type": "stream",
     "text": [
      "[1 2 3 4 5 6]\n"
     ]
    }
   ],
   "source": [
    "new_myarray = np.append(my_array,[6])\n",
    "print (new_myarray)"
   ]
  },
  {
   "cell_type": "markdown",
   "id": "a285d032",
   "metadata": {},
   "source": [
    "# 4. Insert value in an array using insert() method"
   ]
  },
  {
   "cell_type": "code",
   "execution_count": 11,
   "id": "60d687e5",
   "metadata": {},
   "outputs": [
    {
     "name": "stdout",
     "output_type": "stream",
     "text": [
      "[ 1  2  3  4  5  3 11]\n"
     ]
    }
   ],
   "source": [
    "new_myarray = np.insert(my_array,5,[3,11])\n",
    "print (new_myarray)"
   ]
  },
  {
   "cell_type": "markdown",
   "id": "e6d6f182",
   "metadata": {},
   "source": [
    "# 5. Extend python array using extend() method"
   ]
  },
  {
   "cell_type": "code",
   "execution_count": 13,
   "id": "0cf50b6a",
   "metadata": {},
   "outputs": [
    {
     "name": "stdout",
     "output_type": "stream",
     "text": [
      "[1, 2, 3, 4, 5, 10, 11, 12]\n"
     ]
    }
   ],
   "source": [
    "my_array = [1,2,3,4,5]\n",
    "my_array1 = [10,11,12]\n",
    "my_array.extend(my_array1)\n",
    "print (my_array)"
   ]
  },
  {
   "cell_type": "markdown",
   "id": "5db542d9",
   "metadata": {},
   "source": [
    "\n",
    "# 6. Add items from list into array using fromlist() method"
   ]
  },
  {
   "cell_type": "code",
   "execution_count": 2,
   "id": "1235d383",
   "metadata": {},
   "outputs": [
    {
     "name": "stdout",
     "output_type": "stream",
     "text": [
      "array('i', [1, 2, 3, 4, 5, 10, 11, 12, 20, 21, 22])\n"
     ]
    }
   ],
   "source": [
    "tempList = [20,21,22]\n",
    "my_array.fromlist(tempList)\n",
    "print(my_array)"
   ]
  },
  {
   "cell_type": "markdown",
   "id": "86357160",
   "metadata": {},
   "source": [
    "# 7. Remove any array element using remove() method"
   ]
  },
  {
   "cell_type": "code",
   "execution_count": 3,
   "id": "2ffaa36c",
   "metadata": {},
   "outputs": [
    {
     "name": "stdout",
     "output_type": "stream",
     "text": [
      "array('i', [1, 2, 3, 4, 5, 10, 12, 20, 21, 22])\n"
     ]
    }
   ],
   "source": [
    "my_array.remove(11)\n",
    "print (my_array)"
   ]
  },
  {
   "cell_type": "markdown",
   "id": "2fad9644",
   "metadata": {},
   "source": [
    "# 8. Remove last array element using pop() method"
   ]
  },
  {
   "cell_type": "code",
   "execution_count": 4,
   "id": "8ef45536",
   "metadata": {},
   "outputs": [
    {
     "name": "stdout",
     "output_type": "stream",
     "text": [
      "array('i', [1, 2, 3, 4, 5, 10, 12, 20, 21])\n"
     ]
    }
   ],
   "source": [
    "my_array.pop(9)\n",
    "print (my_array)"
   ]
  },
  {
   "cell_type": "markdown",
   "id": "de8c74a2",
   "metadata": {},
   "source": [
    "# 9. Fetch any element through its index using index() method"
   ]
  },
  {
   "cell_type": "code",
   "execution_count": 5,
   "id": "3d69fc05",
   "metadata": {},
   "outputs": [
    {
     "name": "stdout",
     "output_type": "stream",
     "text": [
      "8\n"
     ]
    }
   ],
   "source": [
    "index = my_array.index(21)\n",
    "print(index)"
   ]
  },
  {
   "cell_type": "markdown",
   "id": "305e05d3",
   "metadata": {},
   "source": [
    "# 10. Reverse a python array using reverse() method"
   ]
  },
  {
   "cell_type": "code",
   "execution_count": 6,
   "id": "ab03f356",
   "metadata": {},
   "outputs": [
    {
     "name": "stdout",
     "output_type": "stream",
     "text": [
      "array('i', [21, 20, 12, 10, 5, 4, 3, 2, 1])\n"
     ]
    }
   ],
   "source": [
    "my_array.reverse()\n",
    "print(my_array)"
   ]
  },
  {
   "cell_type": "markdown",
   "id": "dd979115",
   "metadata": {},
   "source": [
    "# 11. Get array buffer information through buffer_info() method"
   ]
  },
  {
   "cell_type": "code",
   "execution_count": 7,
   "id": "76064d80",
   "metadata": {},
   "outputs": [
    {
     "name": "stdout",
     "output_type": "stream",
     "text": [
      "(1294056872416, 9)\n"
     ]
    }
   ],
   "source": [
    "print(my_array.buffer_info())"
   ]
  },
  {
   "cell_type": "markdown",
   "id": "f751fab8",
   "metadata": {},
   "source": [
    "# 12. Check for number of occurrences of an element using count() method"
   ]
  },
  {
   "cell_type": "code",
   "execution_count": 8,
   "id": "50e048a4",
   "metadata": {},
   "outputs": [
    {
     "name": "stdout",
     "output_type": "stream",
     "text": [
      "1\n",
      "array('i', [21, 20, 12, 10, 5, 4, 3, 2, 1, 11])\n"
     ]
    }
   ],
   "source": [
    "my_array.append(11)\n",
    "print(my_array.count(11))\n",
    "print(my_array)"
   ]
  },
  {
   "cell_type": "markdown",
   "id": "b18c12da",
   "metadata": {},
   "source": [
    "# 13. Convert array to string using tostring() method"
   ]
  },
  {
   "cell_type": "code",
   "execution_count": 14,
   "id": "5448b9cc",
   "metadata": {},
   "outputs": [
    {
     "name": "stdout",
     "output_type": "stream",
     "text": [
      "b'\\x15\\x00\\x00\\x00\\x14\\x00\\x00\\x00\\x0c\\x00\\x00\\x00\\n\\x00\\x00\\x00\\x05\\x00\\x00\\x00\\x04\\x00\\x00\\x00\\x03\\x00\\x00\\x00\\x02\\x00\\x00\\x00\\x01\\x00\\x00\\x00\\x0b\\x00\\x00\\x00'\n"
     ]
    }
   ],
   "source": [
    "from array import *\n",
    "\n",
    "my_array = array('i', [21, 20, 12, 10, 5, 4, 3, 2, 1, 11])\n",
    "\n",
    "my_bytes = my_array.tobytes()\n",
    "\n",
    "print(my_bytes)"
   ]
  },
  {
   "cell_type": "markdown",
   "id": "6e25987d",
   "metadata": {},
   "source": [
    "# 14. Convert array to a python list with same elements using tolist() method"
   ]
  },
  {
   "cell_type": "code",
   "execution_count": 11,
   "id": "c85bbdcb",
   "metadata": {},
   "outputs": [
    {
     "name": "stdout",
     "output_type": "stream",
     "text": [
      "[21, 20, 12, 10, 5, 4, 3, 2, 1, 11]\n"
     ]
    }
   ],
   "source": [
    "print(my_array.tolist())"
   ]
  },
  {
   "cell_type": "markdown",
   "id": "ca705621",
   "metadata": {},
   "source": [
    "# 16. Slice Elements from an array"
   ]
  },
  {
   "cell_type": "code",
   "execution_count": 16,
   "id": "0b9895c1",
   "metadata": {},
   "outputs": [
    {
     "name": "stdout",
     "output_type": "stream",
     "text": [
      "array('i', [12, 10, 5])\n"
     ]
    }
   ],
   "source": [
    "print(my_array[2:5])"
   ]
  }
 ],
 "metadata": {
  "kernelspec": {
   "display_name": "Python 3 (ipykernel)",
   "language": "python",
   "name": "python3"
  },
  "language_info": {
   "codemirror_mode": {
    "name": "ipython",
    "version": 3
   },
   "file_extension": ".py",
   "mimetype": "text/x-python",
   "name": "python",
   "nbconvert_exporter": "python",
   "pygments_lexer": "ipython3",
   "version": "3.9.12"
  }
 },
 "nbformat": 4,
 "nbformat_minor": 5
}
