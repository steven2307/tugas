{
 "cells": [
  {
   "cell_type": "code",
   "execution_count": 1,
   "id": "660c2abc",
   "metadata": {},
   "outputs": [],
   "source": [
    "class Graph:\n",
    "    def __init__(self, gdict=None):\n",
    "        if gdict is None:\n",
    "            gdict = {}\n",
    "        self.gdict = gdict\n",
    "    \n",
    "    def bfs(self, start, end):\n",
    "        queue = []\n",
    "        queue.append([start])\n",
    "        while queue:\n",
    "            path = queue.pop(0)\n",
    "            node = path[-1]\n",
    "            if node == end:\n",
    "                return path\n",
    "            for adjacent in self.gdict.get(node, []):\n",
    "                new_path = list(path)\n",
    "                new_path.append(adjacent)\n",
    "                queue.append(new_path)"
   ]
  },
  {
   "cell_type": "code",
   "execution_count": 2,
   "id": "31af928f",
   "metadata": {},
   "outputs": [],
   "source": [
    "customDict = { \"a\" : [\"b\",\"c\"],\n",
    "               \"b\" : [\"d\",\"g\"],\n",
    "               \"c\" : [\"d\",\"e\"],\n",
    "               \"d\" : [\"f\"],\n",
    "               \"e\" : [\"f\"],\n",
    "               \"g\" : [\"f\"]\n",
    "             }"
   ]
  },
  {
   "cell_type": "code",
   "execution_count": 3,
   "id": "5e094d1f",
   "metadata": {},
   "outputs": [
    {
     "name": "stdout",
     "output_type": "stream",
     "text": [
      "['a', 'b', 'd', 'f']\n"
     ]
    }
   ],
   "source": [
    "g = Graph(customDict)\n",
    "print(g.bfs(\"a\",\"f\"))"
   ]
  }
 ],
 "metadata": {
  "kernelspec": {
   "display_name": "Python 3 (ipykernel)",
   "language": "python",
   "name": "python3"
  },
  "language_info": {
   "codemirror_mode": {
    "name": "ipython",
    "version": 3
   },
   "file_extension": ".py",
   "mimetype": "text/x-python",
   "name": "python",
   "nbconvert_exporter": "python",
   "pygments_lexer": "ipython3",
   "version": "3.9.12"
  }
 },
 "nbformat": 4,
 "nbformat_minor": 5
}
