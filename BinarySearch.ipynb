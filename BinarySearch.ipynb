{
 "cells": [
  {
   "cell_type": "code",
   "execution_count": 1,
   "id": "b8a90f53",
   "metadata": {},
   "outputs": [],
   "source": [
    "import math"
   ]
  },
  {
   "cell_type": "code",
   "execution_count": 2,
   "id": "87761e17",
   "metadata": {},
   "outputs": [],
   "source": [
    "def binarySearch(array, value):\n",
    "    start = 0\n",
    "    end = len(array)-1\n",
    "    middle = math.floor((start+end)/2)\n",
    "    while not(array[middle]==value) and start<=end:\n",
    "        if value < array[middle]:\n",
    "            end = middle - 1\n",
    "        else:\n",
    "            start = middle + 1 \n",
    "        middle = math.floor((start+end)/2)\n",
    "        # print(start, middle, end)\n",
    "    if array[middle] == value:\n",
    "        return middle\n",
    "    else:\n",
    "        return -1"
   ]
  },
  {
   "cell_type": "code",
   "execution_count": 3,
   "id": "f411544b",
   "metadata": {},
   "outputs": [
    {
     "name": "stdout",
     "output_type": "stream",
     "text": [
      "3\n"
     ]
    }
   ],
   "source": [
    "custArray = [8, 9, 12, 15, 17, 19, 20, 21, 28]\n",
    "print(binarySearch(custArray, 15))"
   ]
  }
 ],
 "metadata": {
  "kernelspec": {
   "display_name": "Python 3 (ipykernel)",
   "language": "python",
   "name": "python3"
  },
  "language_info": {
   "codemirror_mode": {
    "name": "ipython",
    "version": 3
   },
   "file_extension": ".py",
   "mimetype": "text/x-python",
   "name": "python",
   "nbconvert_exporter": "python",
   "pygments_lexer": "ipython3",
   "version": "3.9.12"
  }
 },
 "nbformat": 4,
 "nbformat_minor": 5
}
