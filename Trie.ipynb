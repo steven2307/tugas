{
 "cells": [
  {
   "cell_type": "code",
   "execution_count": 1,
   "id": "dd5d0f34",
   "metadata": {},
   "outputs": [],
   "source": [
    "class TrieNode:\n",
    "    def __init__(self):\n",
    "        self.children = {}\n",
    "        self.endOfString = False"
   ]
  },
  {
   "cell_type": "code",
   "execution_count": 2,
   "id": "02b08708",
   "metadata": {},
   "outputs": [],
   "source": [
    "class Trie:\n",
    "    def __init__(self):\n",
    "        self.root = TrieNode()\n",
    "    \n",
    "    def insertString(self, word):\n",
    "        current = self.root\n",
    "        for i in word:\n",
    "            ch = i\n",
    "            node = current.children.get(ch)\n",
    "            if node == None:\n",
    "                node = TrieNode()\n",
    "                current.children.update({ch:node})\n",
    "            current = node\n",
    "        current.endOfString = True\n",
    "        print(\"Successfully inserted\")\n",
    "    \n",
    "    def searchString(self, word):\n",
    "        currentNode = self.root\n",
    "        for i in word:\n",
    "            node = currentNode.children.get(i)\n",
    "            if node == None:\n",
    "                return False\n",
    "            currentNode = node\n",
    "\n",
    "        if currentNode.endOfString == True:\n",
    "            return True\n",
    "        else:\n",
    "            return False\n",
    "        \n",
    "\n",
    "def deleteString(root, word, index):\n",
    "    ch = word[index]\n",
    "    currentNode = root.children.get(ch)\n",
    "    canThisNodeBeDeleted = False\n",
    "\n",
    "    if len(currentNode.children) > 1:\n",
    "        deleteString(currentNode, word, index+1)\n",
    "        return False\n",
    "    \n",
    "    if index == len(word) - 1:\n",
    "        if len(currentNode.children) >= 1:\n",
    "            currentNode.endOfString = False\n",
    "            return False\n",
    "        else:\n",
    "            root.children.pop(ch)\n",
    "            return True\n",
    "    \n",
    "    if currentNode.endOfString == True:\n",
    "        deleteString(currentNode, word, index+1)\n",
    "        return False\n",
    "\n",
    "    canThisNodeBeDeleted = deleteString(currentNode, word, index+1)\n",
    "    if canThisNodeBeDeleted == True:\n",
    "        root.children.pop(ch)\n",
    "        return True\n",
    "    else:\n",
    "        return False"
   ]
  },
  {
   "cell_type": "code",
   "execution_count": 3,
   "id": "8ba785e7",
   "metadata": {},
   "outputs": [
    {
     "name": "stdout",
     "output_type": "stream",
     "text": [
      "Successfully inserted\n",
      "Successfully inserted\n"
     ]
    }
   ],
   "source": [
    "newTrie = Trie()\n",
    "newTrie.insertString(\"App\")\n",
    "newTrie.insertString(\"Appl\")"
   ]
  },
  {
   "cell_type": "code",
   "execution_count": 4,
   "id": "38ed810e",
   "metadata": {},
   "outputs": [
    {
     "data": {
      "text/plain": [
       "False"
      ]
     },
     "execution_count": 4,
     "metadata": {},
     "output_type": "execute_result"
    }
   ],
   "source": [
    "deleteString(newTrie.root, \"App\", 0)"
   ]
  },
  {
   "cell_type": "code",
   "execution_count": 5,
   "id": "d116ceb8",
   "metadata": {},
   "outputs": [
    {
     "name": "stdout",
     "output_type": "stream",
     "text": [
      "False\n"
     ]
    }
   ],
   "source": [
    "print(newTrie.searchString(\"App\"))"
   ]
  }
 ],
 "metadata": {
  "kernelspec": {
   "display_name": "Python 3 (ipykernel)",
   "language": "python",
   "name": "python3"
  },
  "language_info": {
   "codemirror_mode": {
    "name": "ipython",
    "version": 3
   },
   "file_extension": ".py",
   "mimetype": "text/x-python",
   "name": "python",
   "nbconvert_exporter": "python",
   "pygments_lexer": "ipython3",
   "version": "3.9.12"
  }
 },
 "nbformat": 4,
 "nbformat_minor": 5
}
