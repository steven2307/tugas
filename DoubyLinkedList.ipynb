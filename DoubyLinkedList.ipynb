{
 "cells": [
  {
   "cell_type": "code",
   "execution_count": 1,
   "id": "cb6bcfbd",
   "metadata": {},
   "outputs": [],
   "source": [
    "class Node:\n",
    "    def __init__(self,value=None):\n",
    "        self.value = value\n",
    "        self.next = None\n",
    "        self.prev = None"
   ]
  },
  {
   "cell_type": "code",
   "execution_count": 2,
   "id": "26a76bc5",
   "metadata": {},
   "outputs": [],
   "source": [
    "class DoublyLinkedList:\n",
    "    def __init__(self):\n",
    "        self.head = None\n",
    "        self.prev = None\n",
    "        \n",
    "    def __iter__(self):\n",
    "        node = self.head\n",
    "        while node:\n",
    "            yield node\n",
    "            node = node.next\n",
    "        \n",
    "    def createDLL(self,nodeValue):    \n",
    "        node = Node(nodeValue) \n",
    "        self.prev = None\n",
    "        self.next = None\n",
    "        self.head = node\n",
    "        self.tail = node\n",
    "        return \"The DLL is created Successfully\"\n",
    "    \n",
    "    def insertNode(self,nodeValue,location):\n",
    "        if self.head is None:\n",
    "            print(\"The node cannot be inserted\")\n",
    "        else:\n",
    "            newNode= Node(nodeValue)\n",
    "            if location == 0:\n",
    "                newNode.prev = None\n",
    "                newNode.next = self.head\n",
    "                self.head.prev = newNode\n",
    "                self.head = newNode\n",
    "            elif location == 1:\n",
    "                newNode.next = None\n",
    "                newNode.prev = self.tail\n",
    "                self.tail.next = newNode\n",
    "                self.tail = newNode\n",
    "            else:\n",
    "                tempNode = self.head\n",
    "                index = 0\n",
    "                while index < location - 1:\n",
    "                    tempNode = tempNode.next\n",
    "                    index += 1\n",
    "                newNode.next = tempNode.next\n",
    "                newNode.prev = tempNode\n",
    "                newNode.next.prev = newNode\n",
    "                tempNode.next = newNode\n",
    "                \n",
    "    def traverseDLL(self):\n",
    "        if self.head is None:\n",
    "            print(\"There is not any element to traverse\")\n",
    "        else:\n",
    "            tempNode = self.head\n",
    "            while tempNode:\n",
    "                print(tempNode.value)\n",
    "                tempNode = tempNode.next\n",
    "        \n",
    "    def reverseTraverseDLL(self):\n",
    "        if self.head is None:\n",
    "            print(\"There is not any element to traverse\")\n",
    "        else:\n",
    "            tempNode= self.tail\n",
    "            while tempNode:\n",
    "                print(tempNode.value)\n",
    "                tempNode = tempNode.prev\n",
    "                    \n",
    "    def searchDLL(self,nodeValue):\n",
    "        if self.head is None:\n",
    "            return \"There is not any element in the list\"\n",
    "        else:\n",
    "            tempNode = self.head\n",
    "            while tempNode:\n",
    "                if tempNode.value == nodeValue:\n",
    "                    return tempNode.value\n",
    "                tempNode == tempNode.next\n",
    "            return \"The node does ot exist in this list\"\n",
    "    \n",
    "    def deleteNode(self,location):\n",
    "        if self.head is None:\n",
    "            print(\"There is not any element in this list\")\n",
    "        else:\n",
    "            if location == 0:\n",
    "                if self.head == self.tail:\n",
    "                    self.head = None\n",
    "                    self.tail = None\n",
    "                else:\n",
    "                    self.head = self.head.next\n",
    "                    self.head.prev = None\n",
    "            elif location == 1:\n",
    "                if self.head == self.tail:\n",
    "                    self.head = None\n",
    "                    self.tail = None\n",
    "                else:\n",
    "                    self.tail = self.tail.prev\n",
    "                    self.tail.prev = None\n",
    "            else:\n",
    "                curNode = self.head\n",
    "                index = 0\n",
    "                while index < location - 1:\n",
    "                    curNode = curNode.next\n",
    "                    index += 1\n",
    "                curNode.next = curNode.next.next\n",
    "                curNode.next.prev = curNode\n",
    "            print(\"The node has been successfully deleted\")\n",
    "            \n",
    "    def deleteDLL(self):\n",
    "        if self.head is None:\n",
    "            print(\"There is not any not in DLL\")\n",
    "        else:\n",
    "            tempNode = self.head\n",
    "            while tempNode:\n",
    "                tempNode.prev = None\n",
    "                tempNode = tempNode.next\n",
    "            self.head = None\n",
    "            self.tail = None\n",
    "            print(\"The DLL has been successfully deleted\")"
   ]
  },
  {
   "cell_type": "code",
   "execution_count": 4,
   "id": "8857725e",
   "metadata": {},
   "outputs": [
    {
     "name": "stdout",
     "output_type": "stream",
     "text": [
      "[0, 5, 6, 2]\n"
     ]
    }
   ],
   "source": [
    "doubyLL = DoublyLinkedList()\n",
    "doubyLL.createDLL(5)\n",
    "doubyLL.insertNode(0,0)\n",
    "doubyLL.insertNode(2,1)\n",
    "doubyLL.insertNode(6,2)\n",
    "print([node.value for node in doubyLL])"
   ]
  },
  {
   "cell_type": "code",
   "execution_count": 5,
   "id": "84032bd0",
   "metadata": {},
   "outputs": [
    {
     "name": "stdout",
     "output_type": "stream",
     "text": [
      "The DLL has been successfully deleted\n",
      "[]\n"
     ]
    }
   ],
   "source": [
    "doubyLL.deleteDLL()\n",
    "print([node.value for node in doubyLL])"
   ]
  }
 ],
 "metadata": {
  "kernelspec": {
   "display_name": "Python 3 (ipykernel)",
   "language": "python",
   "name": "python3"
  },
  "language_info": {
   "codemirror_mode": {
    "name": "ipython",
    "version": 3
   },
   "file_extension": ".py",
   "mimetype": "text/x-python",
   "name": "python",
   "nbconvert_exporter": "python",
   "pygments_lexer": "ipython3",
   "version": "3.9.12"
  }
 },
 "nbformat": 4,
 "nbformat_minor": 5
}
