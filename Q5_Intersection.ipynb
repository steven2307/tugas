{
 "cells": [
  {
   "cell_type": "code",
   "execution_count": 1,
   "id": "9cdec6c0",
   "metadata": {},
   "outputs": [],
   "source": [
    "from random import randint"
   ]
  },
  {
   "cell_type": "code",
   "execution_count": 2,
   "id": "5587fc54",
   "metadata": {},
   "outputs": [],
   "source": [
    "class Node:\n",
    "    def __init__(self, value=None):\n",
    "        self.value = value\n",
    "        self.next = None\n",
    "        self.prev = None\n",
    "        \n",
    "    def __str__(self):\n",
    "        return str(self.value)"
   ]
  },
  {
   "cell_type": "code",
   "execution_count": 6,
   "id": "2aabffdd",
   "metadata": {},
   "outputs": [],
   "source": [
    "class LinkedList:\n",
    "    def __init__(self, values = None):\n",
    "        self.head = None\n",
    "        self.tail = None\n",
    "    \n",
    "    def __iter__(self):\n",
    "        curNode = self.head\n",
    "        while curNode:\n",
    "            yield curNode\n",
    "            curNode = curNode.next\n",
    "    \n",
    "    def __str__(self):\n",
    "        values = [str(x.value) for x in self]\n",
    "        return ' -> '.join(values)\n",
    "    \n",
    "    def __len__(self):\n",
    "        result = 0\n",
    "        node = self.head\n",
    "        while node:\n",
    "            result += 1\n",
    "            node = node.next\n",
    "        return result\n",
    "    \n",
    "    def add(self, value):\n",
    "        if self.head is None:\n",
    "            newNode = Node(value)\n",
    "            self.head = newNode\n",
    "            self.tail = newNode\n",
    "        else:\n",
    "            self.tail.next = Node(value)\n",
    "            self.tail = self.tail.next\n",
    "        return self.tail\n",
    "    def generate(self, n, min_value, max_value):\n",
    "        self.head = None\n",
    "        self.tail = None\n",
    "        for i in range(n):\n",
    "            self.add(randint(min_value, max_value))\n",
    "        return self"
   ]
  },
  {
   "cell_type": "code",
   "execution_count": 7,
   "id": "8443b788",
   "metadata": {},
   "outputs": [],
   "source": [
    "def intersection(llA, llB):\n",
    "    if llA.tail is not llB.tail:\n",
    "        return False\n",
    "    \n",
    "    lenA = len(llA)\n",
    "    lenB = len(llB)\n",
    "\n",
    "    shorter = llA if lenA < lenB else llB\n",
    "    longer = llB if lenA < lenB else llA\n",
    "\n",
    "    diff = len(longer) - len(shorter)\n",
    "    longerNode = longer.head\n",
    "    shorterNode = shorter.head\n",
    "\n",
    "    for i in range(diff):\n",
    "        longerNode = longerNode.next\n",
    "    \n",
    "    while shorterNode is not longerNode:\n",
    "        shorterNode = shorterNode.next\n",
    "        longerNode = longerNode.next\n",
    "    \n",
    "    return longerNode\n",
    "\n",
    "def addSameNode(llA, llB, value):\n",
    "    tempNode = Node(value)\n",
    "    llA.tail.next = tempNode\n",
    "    llA.tail = tempNode\n",
    "    llB.tail.next = tempNode\n",
    "    llB.tail = tempNode"
   ]
  },
  {
   "cell_type": "code",
   "execution_count": 8,
   "id": "1312e18d",
   "metadata": {},
   "outputs": [
    {
     "data": {
      "text/plain": [
       "<__main__.LinkedList at 0x1fa4051f8b0>"
      ]
     },
     "execution_count": 8,
     "metadata": {},
     "output_type": "execute_result"
    }
   ],
   "source": [
    "llA = LinkedList()\n",
    "llA.generate(3,0, 10)\n",
    "\n",
    "llB = LinkedList()\n",
    "llB.generate(4,0, 10)"
   ]
  },
  {
   "cell_type": "code",
   "execution_count": 9,
   "id": "e9e20729",
   "metadata": {},
   "outputs": [],
   "source": [
    "addSameNode(llA, llB, 11)\n",
    "addSameNode(llA, llB, 14)"
   ]
  },
  {
   "cell_type": "code",
   "execution_count": 10,
   "id": "5977a8ff",
   "metadata": {},
   "outputs": [
    {
     "name": "stdout",
     "output_type": "stream",
     "text": [
      "8 -> 9 -> 4 -> 11 -> 14\n",
      "5 -> 5 -> 10 -> 10 -> 11 -> 14\n"
     ]
    }
   ],
   "source": [
    "print(llA)\n",
    "print(llB)"
   ]
  },
  {
   "cell_type": "code",
   "execution_count": 11,
   "id": "8584ed67",
   "metadata": {},
   "outputs": [
    {
     "name": "stdout",
     "output_type": "stream",
     "text": [
      "11\n"
     ]
    }
   ],
   "source": [
    "print(intersection(llA, llB))"
   ]
  }
 ],
 "metadata": {
  "kernelspec": {
   "display_name": "Python 3 (ipykernel)",
   "language": "python",
   "name": "python3"
  },
  "language_info": {
   "codemirror_mode": {
    "name": "ipython",
    "version": 3
   },
   "file_extension": ".py",
   "mimetype": "text/x-python",
   "name": "python",
   "nbconvert_exporter": "python",
   "pygments_lexer": "ipython3",
   "version": "3.9.12"
  }
 },
 "nbformat": 4,
 "nbformat_minor": 5
}
