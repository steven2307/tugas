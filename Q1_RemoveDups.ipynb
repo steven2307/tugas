{
 "cells": [
  {
   "cell_type": "code",
   "execution_count": 1,
   "id": "3a34cbcd",
   "metadata": {},
   "outputs": [],
   "source": [
    "from random import randint"
   ]
  },
  {
   "cell_type": "code",
   "execution_count": 2,
   "id": "05dca4ed",
   "metadata": {},
   "outputs": [],
   "source": [
    "class Node:\n",
    "    def __init__(self, value=None):\n",
    "        self.value = value\n",
    "        self.next = None\n",
    "        self.prev = None\n",
    "        \n",
    "    def __str__(self):\n",
    "        return str(self.value)"
   ]
  },
  {
   "cell_type": "code",
   "execution_count": 3,
   "id": "501b1767",
   "metadata": {},
   "outputs": [],
   "source": [
    "class LinkedList:\n",
    "    def __init__(self, values = None):\n",
    "        self.head = None\n",
    "        self.tail = None\n",
    "    \n",
    "    def __iter__(self):\n",
    "        curNode = self.head\n",
    "        while curNode:\n",
    "            yield curNode\n",
    "            curNode = curNode.next\n",
    "    \n",
    "    def __str__(self):\n",
    "        values = [str(x.value) for x in self]\n",
    "        return ' -> '.join(values)\n",
    "    \n",
    "    def __len__(self):\n",
    "        result = 0\n",
    "        node = self.head\n",
    "        while node:\n",
    "            result += 1\n",
    "            node = node.next\n",
    "        return result\n",
    "    \n",
    "    def add(self, value):\n",
    "        if self.head is None:\n",
    "            newNode = Node(value)\n",
    "            self.head = newNode\n",
    "            self.tail = newNode\n",
    "        else:\n",
    "            self.tail.next = Node(value)\n",
    "            self.tail = self.tail.next\n",
    "        return self.tail\n",
    "    \n",
    "    def generate(self, n, min_value, max_value):\n",
    "        self.head = None\n",
    "        self.tail = None\n",
    "        for i in range(n):\n",
    "            self.add(randint(min_value, max_value))\n",
    "        return self\n",
    "    \n",
    "    def removeDups(ll):\n",
    "        if ll.head is None:\n",
    "            return\n",
    "        else:\n",
    "            currentNode = ll.head\n",
    "            visited = set([currentNode.value])\n",
    "            while currentNode.next:\n",
    "                if currentNode.next.value in visited:\n",
    "                    currentNode.next = currentNode.next.next\n",
    "                else:\n",
    "                    visited.add(currentNode.next.value)\n",
    "                    currentNode = currentNode.next\n",
    "            return ll\n",
    "    \n",
    "    def removeDups1(ll):\n",
    "        if ll.head is None:\n",
    "            return\n",
    "\n",
    "        currentNode = ll.head\n",
    "        while currentNode:\n",
    "            runner = currentNode\n",
    "            while runner.next:\n",
    "                if runner.next.value == currentNode.value:\n",
    "                    runner.next = runner.next.next\n",
    "                else:\n",
    "                    runner = runner.next\n",
    "                    currentNode = currentNode.next\n",
    "        return ll.head"
   ]
  },
  {
   "cell_type": "code",
   "execution_count": 4,
   "id": "98b447c6",
   "metadata": {},
   "outputs": [
    {
     "data": {
      "text/plain": [
       "<__main__.LinkedList at 0x1e25160d100>"
      ]
     },
     "execution_count": 4,
     "metadata": {},
     "output_type": "execute_result"
    }
   ],
   "source": [
    "customLL = LinkedList()\n",
    "customLL.generate(10, 0, 99)"
   ]
  },
  {
   "cell_type": "code",
   "execution_count": 5,
   "id": "69c528c5",
   "metadata": {
    "scrolled": true
   },
   "outputs": [
    {
     "name": "stdout",
     "output_type": "stream",
     "text": [
      "1 -> 86 -> 27 -> 4 -> 91 -> 27 -> 95 -> 57 -> 53 -> 41\n"
     ]
    }
   ],
   "source": [
    "print(customLL)"
   ]
  },
  {
   "cell_type": "code",
   "execution_count": 6,
   "id": "ebef8265",
   "metadata": {},
   "outputs": [
    {
     "name": "stdout",
     "output_type": "stream",
     "text": [
      "1 -> 86 -> 27 -> 4 -> 91 -> 95 -> 57 -> 53 -> 41\n"
     ]
    }
   ],
   "source": [
    "customLL.removeDups()\n",
    "print(customLL)"
   ]
  }
 ],
 "metadata": {
  "kernelspec": {
   "display_name": "Python 3 (ipykernel)",
   "language": "python",
   "name": "python3"
  },
  "language_info": {
   "codemirror_mode": {
    "name": "ipython",
    "version": 3
   },
   "file_extension": ".py",
   "mimetype": "text/x-python",
   "name": "python",
   "nbconvert_exporter": "python",
   "pygments_lexer": "ipython3",
   "version": "3.9.12"
  }
 },
 "nbformat": 4,
 "nbformat_minor": 5
}
