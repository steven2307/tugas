{
 "cells": [
  {
   "cell_type": "code",
   "execution_count": 2,
   "id": "952e66b5",
   "metadata": {},
   "outputs": [
    {
     "name": "stdout",
     "output_type": "stream",
     "text": [
      "Masukkan golongan (A/B/C/D): A\n",
      "Masukkan jam kerja per bulan: 49\n",
      "Gaji pokok karyawan adalah Rp 13,375,000.00\n"
     ]
    }
   ],
   "source": [
    "def hitung_gaji(golongan, jam_kerja):\n",
    "    if golongan == \"A\":\n",
    "        gaji_pokok = 10000000\n",
    "    elif golongan == \"B\":\n",
    "        gaji_pokok = 7000000\n",
    "    elif golongan == \"C\":\n",
    "        gaji_pokok = 5000000\n",
    "    elif golongan == \"D\":\n",
    "        gaji_pokok = 3000000\n",
    "    else:\n",
    "        print(\"Golongan tidak valid.\")\n",
    "        return\n",
    "    \n",
    "    if jam_kerja > 48:\n",
    "        gaji_total = gaji_pokok + (jam_kerja - 40) * (gaji_pokok / 40) * 1.5\n",
    "    else:\n",
    "        gaji_total = gaji_pokok\n",
    "    \n",
    "    return gaji_total\n",
    "\n",
    "def main():\n",
    "    golongan = input(\"Masukkan golongan (A/B/C/D): \")\n",
    "    jam_kerja = float(input(\"Masukkan jam kerja per bulan: \"))\n",
    "    \n",
    "    while jam_kerja <= 0:\n",
    "        print(\"Jam kerja harus lebih besar dari 0.\")\n",
    "        jam_kerja = float(input(\"Masukkan jam kerja per bulan: \"))\n",
    "    \n",
    "    gaji = hitung_gaji(golongan, jam_kerja)\n",
    "    print(\"Gaji pokok karyawan adalah Rp\", format(gaji, \",.2f\"))\n",
    "\n",
    "if __name__ == \"__main__\":\n",
    "    main()\n"
   ]
  }
 ],
 "metadata": {
  "kernelspec": {
   "display_name": "Python 3 (ipykernel)",
   "language": "python",
   "name": "python3"
  },
  "language_info": {
   "codemirror_mode": {
    "name": "ipython",
    "version": 3
   },
   "file_extension": ".py",
   "mimetype": "text/x-python",
   "name": "python",
   "nbconvert_exporter": "python",
   "pygments_lexer": "ipython3",
   "version": "3.9.12"
  }
 },
 "nbformat": 4,
 "nbformat_minor": 5
}
