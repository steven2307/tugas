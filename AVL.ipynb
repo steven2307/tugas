{
 "cells": [
  {
   "cell_type": "code",
   "execution_count": 1,
   "id": "1101737b",
   "metadata": {},
   "outputs": [
    {
     "name": "stdout",
     "output_type": "stream",
     "text": [
      "1 2 3\n",
      "1\n",
      "1 2 3\n"
     ]
    }
   ],
   "source": [
    "import QueueLinkedList as queue"
   ]
  },
  {
   "cell_type": "code",
   "execution_count": 3,
   "id": "08adde49",
   "metadata": {},
   "outputs": [],
   "source": [
    "class AVLNode:\n",
    "    def __init__(self, data):\n",
    "        self.data = data\n",
    "        self.leftChild = None\n",
    "        self.rightChild = None\n",
    "        self.height = 1\n",
    "\n",
    "def preOrderTraversal(rootNode):\n",
    "    if not rootNode:\n",
    "        return\n",
    "    print(rootNode.data)\n",
    "    preOrderTraversal(rootNode.leftChild)\n",
    "    preOrderTraversal(rootNode.rightChild)\n",
    "\n",
    "def inOrderTraversal(rootNode):\n",
    "    if not rootNode:\n",
    "        return\n",
    "    inOrderTraversal(rootNode.leftChild)\n",
    "    print(rootNode.data)\n",
    "    inOrderTraversal(rootNode.rightChild)\n",
    "\n",
    "def postOrderTraversal(rootNode):\n",
    "    if not rootNode:\n",
    "        return\n",
    "    postOrderTraversal(rootNode.leftChild)\n",
    "    postOrderTraversal(rootNode.rightChild)\n",
    "    print(rootNode.data)\n",
    "\n",
    "def levelOrderTraversal(rootNode):\n",
    "    if not rootNode:\n",
    "        return\n",
    "    else:\n",
    "        customQueue = queue.Queue()\n",
    "        customQueue.enqueue(rootNode)\n",
    "        while not(customQueue.isEmpty()):\n",
    "            root = customQueue.dequeue()\n",
    "            print(root.value.data)\n",
    "            if root.value.leftChild is not None:\n",
    "                customQueue.enqueue(root.value.leftChild)\n",
    "            if root.value.rightChild is not None:\n",
    "                customQueue.enqueue(root.value.rightChild)\n",
    "\n",
    "\n",
    "def searchNode(rootNode, nodeValue):\n",
    "    if rootNode.data == nodeValue:\n",
    "        print(\"The value is found\")\n",
    "    elif nodeValue < rootNode.data:\n",
    "        if rootNode.leftChild.data == nodeValue:\n",
    "            print(\"The value is found\")\n",
    "        else:\n",
    "            searchNode(rootNode.leftChild, nodeValue)\n",
    "    else:\n",
    "        if rootNode.rightChild.data == nodeValue:\n",
    "            print(\"The value is found\")\n",
    "        else:\n",
    "            searchNode(rootNode.rightChild, nodeValue)\n",
    "\n",
    "def getHeight(rootNode):\n",
    "    if not rootNode:\n",
    "        return 0\n",
    "    return rootNode.height\n",
    "\n",
    "def rightRotate(disbalanceNode):\n",
    "    newRoot = disbalanceNode.leftChild\n",
    "    disbalanceNode.leftChild = disbalanceNode.leftChild.rightChild\n",
    "    newRoot.rightChild = disbalanceNode\n",
    "    disbalanceNode.height = 1 + max(getHeight(disbalanceNode.leftChild), getHeight(disbalanceNode.rightChild))\n",
    "    newRoot.height = 1 + max(getHeight(newRoot.leftChild), getHeight(newRoot.rightChild))\n",
    "    return newRoot\n",
    "\n",
    "def leftRotate(disbalanceNode):\n",
    "    newRoot = disbalanceNode.rightChild\n",
    "    disbalanceNode.rightChild = disbalanceNode.rightChild.leftChild\n",
    "    newRoot.leftChild = disbalanceNode\n",
    "    disbalanceNode.height = 1 + max(getHeight(disbalanceNode.leftChild), getHeight(disbalanceNode.rightChild))\n",
    "    newRoot.height = 1 + max(getHeight(newRoot.leftChild), getHeight(newRoot.rightChild))\n",
    "    return newRoot\n",
    "\n",
    "def getBalance(rootNode):\n",
    "    if not rootNode:\n",
    "        return 0\n",
    "    return getHeight(rootNode.leftChild) - getHeight(rootNode.rightChild)\n",
    "\n",
    "def insertNode(rootNode, nodeValue):\n",
    "    if not rootNode:\n",
    "        return AVLNode(nodeValue)\n",
    "    elif nodeValue < rootNode.data:\n",
    "        rootNode.leftChild = insertNode(rootNode.leftChild, nodeValue)\n",
    "    else:\n",
    "        rootNode.rightChild = insertNode(rootNode.rightChild, nodeValue)\n",
    "    \n",
    "    rootNode.height = 1 + max(getHeight(rootNode.leftChild), getHeight(rootNode.rightChild))\n",
    "    balance = getBalance(rootNode)\n",
    "    if balance > 1 and nodeValue < rootNode.leftChild.data:\n",
    "        return rightRotate(rootNode)\n",
    "    if balance > 1 and nodeValue > rootNode.leftChild.data:\n",
    "        rootNode.leftChild = leftRotate(rootNode.leftChild)\n",
    "        return rightRotate(rootNode)\n",
    "    if balance < -1 and nodeValue > rootNode.rightChild.data:\n",
    "        return leftRotate(rootNode)\n",
    "    if balance < -1 and nodeValue < rootNode.rightChild.data:\n",
    "        rootNode.rightChild = rightRotate(rootNode.rightChild)\n",
    "        return leftRotate(rootNode)\n",
    "    return rootNode\n",
    "\n",
    "def getMinValueNode(rootNode):\n",
    "    if rootNode is None or rootNode.leftChild is None:\n",
    "        return rootNode\n",
    "    return getMinValueNode(rootNode.leftChild)\n",
    "\n",
    "def deleteNode(rootNode, nodeValue):\n",
    "    if not rootNode:\n",
    "        return rootNode\n",
    "    elif nodeValue < rootNode.data:\n",
    "        rootNode.leftChild = deleteNode(rootNode.leftChild, nodeValue)\n",
    "    elif nodeValue > rootNode.data:\n",
    "        rootNode.rightChild = deleteNode(rootNode.rightChild, nodeValue)\n",
    "    else:\n",
    "        if rootNode.leftChild is None:\n",
    "            temp = rootNode.rightChild\n",
    "            rootNode = None\n",
    "            return temp\n",
    "        elif rootNode.rightChild is None:\n",
    "            temp = rootNode.leftChild\n",
    "            rootNode = None\n",
    "            return temp\n",
    "        temp = getMinValueNode(rootNode.rightChild)\n",
    "        rootNode.data = temp.data\n",
    "        rootNode.rightChild = deleteNode(rootNode.rightChild, temp.data)\n",
    "    balance = getBalance(rootNode)\n",
    "    if balance > 1 and getBalance(rootNode.leftChild) >= 0:\n",
    "        return rightRotate(rootNode)\n",
    "    if balance < -1 and getBalance(rootNode.rightChild) <= 0:\n",
    "        return leftRotate(rootNode)\n",
    "    if balance > 1 and getBalance(rootNode.leftChild) < 0:\n",
    "        rootNode.leftChild = leftRotate(rootNode.leftChild)\n",
    "        return rightRotate(rootNode)\n",
    "    if balance < -1 and getBalance(rootNode.rightChild) > 0:\n",
    "        rootNode.rightChild = rightRotate(rootNode.rightChild)\n",
    "        return leftRotate(rootNode)\n",
    "    \n",
    "    return rootNode\n",
    "\n",
    "def deleteAVL(rootNode):\n",
    "    rootNode.data = None\n",
    "    rootNode.leftChild = None\n",
    "    rootNode.rightChild = None\n",
    "    return \"The AVL has been successfully deleted\"\n"
   ]
  },
  {
   "cell_type": "code",
   "execution_count": 4,
   "id": "b2e39a15",
   "metadata": {},
   "outputs": [
    {
     "name": "stdout",
     "output_type": "stream",
     "text": [
      "<__main__.AVLNode object at 0x0000027CB61CE340>\n"
     ]
    }
   ],
   "source": [
    "newAVL = AVLNode(5)\n",
    "newAVL = insertNode(newAVL, 10)\n",
    "newAVL = insertNode(newAVL, 15)\n",
    "newAVL = insertNode(newAVL, 20)\n",
    "print(newAVL)"
   ]
  },
  {
   "cell_type": "code",
   "execution_count": 7,
   "id": "4fb09f4b",
   "metadata": {},
   "outputs": [
    {
     "name": "stdout",
     "output_type": "stream",
     "text": [
      "5\n",
      "20\n",
      "15\n",
      "10\n"
     ]
    }
   ],
   "source": [
    "postOrderTraversal(newAVL)"
   ]
  },
  {
   "cell_type": "code",
   "execution_count": 9,
   "id": "dad64eca",
   "metadata": {},
   "outputs": [
    {
     "data": {
      "text/plain": [
       "'The AVL has been successfully deleted'"
      ]
     },
     "execution_count": 9,
     "metadata": {},
     "output_type": "execute_result"
    }
   ],
   "source": [
    "deleteAVL(newAVL)"
   ]
  }
 ],
 "metadata": {
  "kernelspec": {
   "display_name": "Python 3 (ipykernel)",
   "language": "python",
   "name": "python3"
  },
  "language_info": {
   "codemirror_mode": {
    "name": "ipython",
    "version": 3
   },
   "file_extension": ".py",
   "mimetype": "text/x-python",
   "name": "python",
   "nbconvert_exporter": "python",
   "pygments_lexer": "ipython3",
   "version": "3.9.12"
  }
 },
 "nbformat": 4,
 "nbformat_minor": 5
}
