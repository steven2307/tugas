{
 "cells": [
  {
   "cell_type": "code",
   "execution_count": 17,
   "id": "5b4b526a",
   "metadata": {},
   "outputs": [
    {
     "name": "stdout",
     "output_type": "stream",
     "text": [
      "{'name': 'Edy', 'age': 26, 'address': 'London'}\n"
     ]
    }
   ],
   "source": [
    "myDict = {'name':'Edy','age': 26}\n",
    "myDict['address'] = 'London'\n",
    "print(myDict)"
   ]
  },
  {
   "cell_type": "code",
   "execution_count": 18,
   "id": "b284d13a",
   "metadata": {},
   "outputs": [
    {
     "name": "stdout",
     "output_type": "stream",
     "text": [
      "{'name': 'Edy', 'age': 27, 'address': 'London'}\n"
     ]
    }
   ],
   "source": [
    "myDict['age']=27\n",
    "print(myDict)"
   ]
  },
  {
   "cell_type": "code",
   "execution_count": 19,
   "id": "7db3fd00",
   "metadata": {},
   "outputs": [
    {
     "name": "stdout",
     "output_type": "stream",
     "text": [
      "name Edy\n",
      "age 27\n",
      "address London\n"
     ]
    }
   ],
   "source": [
    "def traverseDict(dict):\n",
    "    for key in dict:\n",
    "        print(key,dict[key])\n",
    "traverseDict(myDict)"
   ]
  },
  {
   "cell_type": "code",
   "execution_count": 20,
   "id": "3c8e0b81",
   "metadata": {},
   "outputs": [
    {
     "name": "stdout",
     "output_type": "stream",
     "text": [
      "{'name': 'Edy', 'age': 27, 'address': 'London'}\n"
     ]
    }
   ],
   "source": [
    "print(myDict)"
   ]
  },
  {
   "cell_type": "code",
   "execution_count": 21,
   "id": "f9dcf81b",
   "metadata": {},
   "outputs": [
    {
     "name": "stdout",
     "output_type": "stream",
     "text": [
      "('age', 27)\n"
     ]
    }
   ],
   "source": [
    "def searchDict(dict,value):\n",
    "    for key in dict:\n",
    "        if dict[key] == value:\n",
    "            return key,value\n",
    "    return 'The value does not exist'\n",
    "print(searchDict(myDict, 27))"
   ]
  },
  {
   "cell_type": "code",
   "execution_count": 22,
   "id": "ec0b7932",
   "metadata": {
    "scrolled": true
   },
   "outputs": [
    {
     "data": {
      "text/plain": [
       "'Edy'"
      ]
     },
     "execution_count": 22,
     "metadata": {},
     "output_type": "execute_result"
    }
   ],
   "source": [
    "myDict.pop('name')"
   ]
  },
  {
   "cell_type": "code",
   "execution_count": 23,
   "id": "63c34b9b",
   "metadata": {},
   "outputs": [
    {
     "name": "stdout",
     "output_type": "stream",
     "text": [
      "{'age': 27, 'address': 'London'}\n"
     ]
    }
   ],
   "source": [
    "print(myDict)"
   ]
  },
  {
   "cell_type": "code",
   "execution_count": 28,
   "id": "8c5b3eb8",
   "metadata": {},
   "outputs": [
    {
     "name": "stdout",
     "output_type": "stream",
     "text": [
      "['aas', 'udd', 'sseo', 'werwi', 'eooooa']\n"
     ]
    }
   ],
   "source": [
    "myDict = {'eooooa' : 1,'aas' : 2,'udd' : 3, 'sseo' : 4, 'werwi' : 5}\n",
    "print(sorted(myDict, key=len))"
   ]
  },
  {
   "cell_type": "code",
   "execution_count": 29,
   "id": "f7857a84",
   "metadata": {},
   "outputs": [
    {
     "name": "stdout",
     "output_type": "stream",
     "text": [
      "{'eooooa': 1, 'aas': 2, 'udd': 3, 'sseo': 4, 'werwi': 5}\n"
     ]
    }
   ],
   "source": [
    "print(myDict)"
   ]
  },
  {
   "cell_type": "code",
   "execution_count": 30,
   "id": "baa92687",
   "metadata": {},
   "outputs": [],
   "source": [
    "myDict.clear()"
   ]
  },
  {
   "cell_type": "code",
   "execution_count": 31,
   "id": "6bbf152a",
   "metadata": {},
   "outputs": [
    {
     "name": "stdout",
     "output_type": "stream",
     "text": [
      "{}\n"
     ]
    }
   ],
   "source": [
    "print(myDict)"
   ]
  },
  {
   "cell_type": "code",
   "execution_count": 32,
   "id": "49e9b079",
   "metadata": {},
   "outputs": [],
   "source": [
    "myDict = {'name' : 'Edy','age' : 26}"
   ]
  },
  {
   "cell_type": "code",
   "execution_count": 33,
   "id": "4cf961c2",
   "metadata": {},
   "outputs": [
    {
     "name": "stdout",
     "output_type": "stream",
     "text": [
      "{'name': 'Edy', 'age': 26}\n"
     ]
    }
   ],
   "source": [
    "print(myDict)"
   ]
  },
  {
   "cell_type": "code",
   "execution_count": 34,
   "id": "68d1bfe1",
   "metadata": {},
   "outputs": [],
   "source": [
    "dict = myDict.copy()"
   ]
  },
  {
   "cell_type": "code",
   "execution_count": 35,
   "id": "80ee512a",
   "metadata": {},
   "outputs": [
    {
     "name": "stdout",
     "output_type": "stream",
     "text": [
      "{'name': 'Edy', 'age': 26}\n"
     ]
    }
   ],
   "source": [
    "print(dict)"
   ]
  },
  {
   "cell_type": "code",
   "execution_count": 39,
   "id": "dc97b01d",
   "metadata": {},
   "outputs": [
    {
     "name": "stdout",
     "output_type": "stream",
     "text": [
      "{1: 676, 2: 676, 3: 676}\n"
     ]
    }
   ],
   "source": [
    "newDict = {}.fromkeys([1,2,3],676)\n",
    "print(newDict)"
   ]
  },
  {
   "cell_type": "code",
   "execution_count": 40,
   "id": "3eb588d0",
   "metadata": {},
   "outputs": [
    {
     "name": "stdout",
     "output_type": "stream",
     "text": [
      "Edy\n"
     ]
    }
   ],
   "source": [
    "print(myDict.get('name', 26))"
   ]
  },
  {
   "cell_type": "code",
   "execution_count": 41,
   "id": "8971ac44",
   "metadata": {},
   "outputs": [
    {
     "name": "stdout",
     "output_type": "stream",
     "text": [
      "27\n"
     ]
    }
   ],
   "source": [
    "print(myDict.get('city', 27))"
   ]
  },
  {
   "cell_type": "code",
   "execution_count": 43,
   "id": "c5055d59",
   "metadata": {},
   "outputs": [
    {
     "name": "stdout",
     "output_type": "stream",
     "text": [
      "None\n"
     ]
    }
   ],
   "source": [
    "print(myDict.get('city'))"
   ]
  },
  {
   "cell_type": "code",
   "execution_count": 45,
   "id": "2dbb0a6c",
   "metadata": {},
   "outputs": [
    {
     "name": "stdout",
     "output_type": "stream",
     "text": [
      "dict_items([('name', 'Edy'), ('age', 26)])\n"
     ]
    }
   ],
   "source": [
    "print(myDict.items())"
   ]
  },
  {
   "cell_type": "code",
   "execution_count": 46,
   "id": "da9bbda9",
   "metadata": {},
   "outputs": [
    {
     "name": "stdout",
     "output_type": "stream",
     "text": [
      "dict_keys(['name', 'age'])\n"
     ]
    }
   ],
   "source": [
    "print(myDict.keys())"
   ]
  },
  {
   "cell_type": "code",
   "execution_count": 47,
   "id": "3508c68d",
   "metadata": {},
   "outputs": [
    {
     "name": "stdout",
     "output_type": "stream",
     "text": [
      "dict_values(['Edy', 26])\n"
     ]
    }
   ],
   "source": [
    "print(myDict.values())"
   ]
  },
  {
   "cell_type": "code",
   "execution_count": 48,
   "id": "bf658d77",
   "metadata": {},
   "outputs": [
    {
     "name": "stdout",
     "output_type": "stream",
     "text": [
      "('age', 26)\n"
     ]
    }
   ],
   "source": [
    "print(myDict.popitem())"
   ]
  },
  {
   "cell_type": "code",
   "execution_count": 49,
   "id": "27338a4c",
   "metadata": {},
   "outputs": [
    {
     "name": "stdout",
     "output_type": "stream",
     "text": [
      "{'name': 'Edy'}\n"
     ]
    }
   ],
   "source": [
    "print(myDict)"
   ]
  },
  {
   "cell_type": "code",
   "execution_count": 51,
   "id": "8933c621",
   "metadata": {},
   "outputs": [
    {
     "name": "stdout",
     "output_type": "stream",
     "text": [
      "Edy\n"
     ]
    }
   ],
   "source": [
    "print(myDict.setdefault('name','added'))"
   ]
  },
  {
   "cell_type": "code",
   "execution_count": 52,
   "id": "e25bf964",
   "metadata": {},
   "outputs": [
    {
     "name": "stdout",
     "output_type": "stream",
     "text": [
      "{'name': 'Edy'}\n"
     ]
    }
   ],
   "source": [
    "print(myDict)"
   ]
  },
  {
   "cell_type": "code",
   "execution_count": 57,
   "id": "3db39661",
   "metadata": {},
   "outputs": [
    {
     "name": "stdout",
     "output_type": "stream",
     "text": [
      "added\n"
     ]
    }
   ],
   "source": [
    "print(myDict.setdefault('name1','added'))"
   ]
  },
  {
   "cell_type": "code",
   "execution_count": 58,
   "id": "98c8308d",
   "metadata": {},
   "outputs": [
    {
     "name": "stdout",
     "output_type": "stream",
     "text": [
      "{'name': 'Edy', 'name1': 'added'}\n"
     ]
    }
   ],
   "source": [
    "print(myDict)"
   ]
  },
  {
   "cell_type": "code",
   "execution_count": 59,
   "id": "49e07b4a",
   "metadata": {},
   "outputs": [
    {
     "name": "stdout",
     "output_type": "stream",
     "text": [
      "added\n"
     ]
    }
   ],
   "source": [
    "print(myDict.pop('name1','not'))"
   ]
  },
  {
   "cell_type": "code",
   "execution_count": 60,
   "id": "140e2e0c",
   "metadata": {},
   "outputs": [
    {
     "name": "stdout",
     "output_type": "stream",
     "text": [
      "{'name': 'Edy'}\n"
     ]
    }
   ],
   "source": [
    "print(myDict)"
   ]
  },
  {
   "cell_type": "code",
   "execution_count": 61,
   "id": "f7d9e883",
   "metadata": {},
   "outputs": [
    {
     "name": "stdout",
     "output_type": "stream",
     "text": [
      "{'name': 'Edy', 'a': 1, 'b': 2, 'c': 3}\n"
     ]
    }
   ],
   "source": [
    "newDict = {'a':1,'b':2,'c':3}\n",
    "myDict.update(newDict)\n",
    "print(myDict)"
   ]
  },
  {
   "cell_type": "code",
   "execution_count": null,
   "id": "00447cc1",
   "metadata": {},
   "outputs": [],
   "source": []
  }
 ],
 "metadata": {
  "kernelspec": {
   "display_name": "Python 3 (ipykernel)",
   "language": "python",
   "name": "python3"
  },
  "language_info": {
   "codemirror_mode": {
    "name": "ipython",
    "version": 3
   },
   "file_extension": ".py",
   "mimetype": "text/x-python",
   "name": "python",
   "nbconvert_exporter": "python",
   "pygments_lexer": "ipython3",
   "version": "3.9.12"
  }
 },
 "nbformat": 4,
 "nbformat_minor": 5
}
