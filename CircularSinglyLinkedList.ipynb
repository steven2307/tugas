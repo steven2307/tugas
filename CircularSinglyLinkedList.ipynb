{
 "cells": [
  {
   "cell_type": "code",
   "execution_count": 1,
   "id": "805eeb54",
   "metadata": {},
   "outputs": [],
   "source": [
    "class Node:\n",
    "    def __init__(self, value=None):\n",
    "        self.value = value\n",
    "        self.next = None"
   ]
  },
  {
   "cell_type": "code",
   "execution_count": 2,
   "id": "4fae004d",
   "metadata": {},
   "outputs": [],
   "source": [
    "class CircularSinglyLinkedList:\n",
    "    def __init__(self):\n",
    "        self.head = None\n",
    "        self.tail = None\n",
    "    \n",
    "    def __iter__(self):\n",
    "        node = self.head\n",
    "        while node:\n",
    "            yield node\n",
    "            node = node.next\n",
    "            if node == self.tail.next:\n",
    "                break\n",
    "    def createCSLL(self, nodeValue):\n",
    "        node = Node(nodeValue)\n",
    "        node.next = node\n",
    "        self.head = node\n",
    "        self.tail = node\n",
    "        return \"The CSLL has been created\"\n",
    "\n",
    "    def insertCSLL(self, value, location):\n",
    "        if self.head is None:\n",
    "            return \"The head reference is None\"\n",
    "        else:\n",
    "            newNode = Node(value)\n",
    "            if location == 0:\n",
    "                newNode.next = self.head\n",
    "                self.head = newNode\n",
    "                self.tail.next = newNode\n",
    "            elif location == 1:\n",
    "                newNode.next = self.tail.next\n",
    "                self.tail.next = newNode\n",
    "                self.tail = newNode\n",
    "            else:\n",
    "                tempNode = self.head\n",
    "                index = 0\n",
    "                while index < location - 1:\n",
    "                    tempNode = tempNode.next\n",
    "                    index += 1\n",
    "                nextNode = tempNode.next\n",
    "                tempNode.next = newNode\n",
    "                newNode.next = nextNode\n",
    "            return \"The node has been successfully inserted\"\n",
    "\n",
    "    def traversalCSLL(self):\n",
    "        if self.head is None:\n",
    "            print(\"There is not any element for traversal\")\n",
    "        else:\n",
    "            tempNode = self.head\n",
    "            while tempNode:\n",
    "                print(tempNode.value)\n",
    "                tempNode = tempNode.next\n",
    "                if tempNode == self.tail.next:\n",
    "                    break\n",
    "\n",
    "    def searchCSLL(self, nodeValue):\n",
    "        if self.head is None:\n",
    "            return \"There is not any node in this CSLL\"\n",
    "        else:\n",
    "            tempNode = self.head\n",
    "            while tempNode:\n",
    "                if tempNode.value == nodeValue:\n",
    "                    return tempNode.value\n",
    "                tempNode = tempNode.next\n",
    "                if tempNode == self.tail.next:\n",
    "                    return \"The node does not exist in this CSLL\"\n",
    "\n",
    "    def deleteNode(self, location):\n",
    "        if self.head is None:\n",
    "            print(\"There is not any node in CSLL\")\n",
    "        else:\n",
    "            if location == 0:\n",
    "                if self.head == self.tail:\n",
    "                    self.head.next = None\n",
    "                    self.head = None\n",
    "                    self.tail = None\n",
    "                else:\n",
    "                    self.head = self.head.next\n",
    "                    self.tail.next = self.head\n",
    "            elif location == 1:\n",
    "                if self.head == self.tail:\n",
    "                    self.head.next = None\n",
    "                    self.head = None\n",
    "                    self.tail = None\n",
    "                else:\n",
    "                    node = self.head\n",
    "                    while node is not None:\n",
    "                        if node.next == self.tail:\n",
    "                            break\n",
    "                        node = node.next\n",
    "                    node.next = self.head\n",
    "                    self.tail = node\n",
    "            else:\n",
    "                tempNode = self.head\n",
    "                index = 0\n",
    "                while index < location - 1:\n",
    "                    tempNode = tempNode.next\n",
    "                    index += 1\n",
    "                nextNode = tempNode.next\n",
    "                tempNode.next = nextNode.next\n",
    "\n",
    "    def deleteEntireCSLL(self):\n",
    "        self.head = None\n",
    "        self.tail.next = None\n",
    "        self.tail = None"
   ]
  },
  {
   "cell_type": "code",
   "execution_count": 3,
   "id": "404da80c",
   "metadata": {},
   "outputs": [
    {
     "name": "stdout",
     "output_type": "stream",
     "text": [
      "[0, 1, 2, 3]\n"
     ]
    }
   ],
   "source": [
    "circularSLL = CircularSinglyLinkedList()\n",
    "circularSLL.createCSLL(0)\n",
    "circularSLL.insertCSLL(1,1)\n",
    "circularSLL.insertCSLL(2,1)\n",
    "circularSLL.insertCSLL(3,1)\n",
    "\n",
    "print([node.value for node in circularSLL])"
   ]
  },
  {
   "cell_type": "code",
   "execution_count": 4,
   "id": "660686f8",
   "metadata": {},
   "outputs": [
    {
     "name": "stdout",
     "output_type": "stream",
     "text": [
      "[]\n"
     ]
    }
   ],
   "source": [
    "circularSLL.deleteEntireCSLL()\n",
    "print([node.value for node in circularSLL]) "
   ]
  }
 ],
 "metadata": {
  "kernelspec": {
   "display_name": "Python 3 (ipykernel)",
   "language": "python",
   "name": "python3"
  },
  "language_info": {
   "codemirror_mode": {
    "name": "ipython",
    "version": 3
   },
   "file_extension": ".py",
   "mimetype": "text/x-python",
   "name": "python",
   "nbconvert_exporter": "python",
   "pygments_lexer": "ipython3",
   "version": "3.9.12"
  }
 },
 "nbformat": 4,
 "nbformat_minor": 5
}
