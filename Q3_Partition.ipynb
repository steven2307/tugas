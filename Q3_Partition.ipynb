{
 "cells": [
  {
   "cell_type": "code",
   "execution_count": 1,
   "id": "9cdec6c0",
   "metadata": {},
   "outputs": [],
   "source": [
    "from random import randint"
   ]
  },
  {
   "cell_type": "code",
   "execution_count": 2,
   "id": "5587fc54",
   "metadata": {},
   "outputs": [],
   "source": [
    "class Node:\n",
    "    def __init__(self, value=None):\n",
    "        self.value = value\n",
    "        self.next = None\n",
    "        self.prev = None\n",
    "        \n",
    "    def __str__(self):\n",
    "        return str(self.value)"
   ]
  },
  {
   "cell_type": "code",
   "execution_count": 3,
   "id": "2aabffdd",
   "metadata": {},
   "outputs": [],
   "source": [
    "class LinkedList:\n",
    "    def __init__(self, values = None):\n",
    "        self.head = None\n",
    "        self.tail = None\n",
    "    \n",
    "    def __iter__(self):\n",
    "        curNode = self.head\n",
    "        while curNode:\n",
    "            yield curNode\n",
    "            curNode = curNode.next\n",
    "    \n",
    "    def __str__(self):\n",
    "        values = [str(x.value) for x in self]\n",
    "        return ' -> '.join(values)\n",
    "    \n",
    "    def __len__(self):\n",
    "        result = 0\n",
    "        node = self.head\n",
    "        while node:\n",
    "            result += 1\n",
    "            node = node.next\n",
    "        return result\n",
    "    \n",
    "    def add(self, value):\n",
    "        if self.head is None:\n",
    "            newNode = Node(value)\n",
    "            self.head = newNode\n",
    "            self.tail = newNode\n",
    "        else:\n",
    "            self.tail.next = Node(value)\n",
    "            self.tail = self.tail.next\n",
    "        return self.tail\n",
    "    \n",
    "    def generate(self, n, min_value, max_value):\n",
    "        self.head = None\n",
    "        self.tail = None\n",
    "        for i in range(n):\n",
    "            self.add(randint(min_value, max_value))\n",
    "        return self\n",
    "    \n",
    "    def partition(ll, x):\n",
    "        curNode = ll.head\n",
    "        ll.tail = ll.head\n",
    "        while curNode:\n",
    "            nextNode = curNode.next\n",
    "            curNode.next = None\n",
    "            if curNode.value < x:\n",
    "                curNode.next = ll.head\n",
    "                ll.head = curNode\n",
    "            else:\n",
    "                ll.tail.next = curNode\n",
    "                ll.tail = curNode\n",
    "            curNode = nextNode\n",
    "        if ll.tail.next is not None:\n",
    "            ll.tail.next = None\n",
    "        return ll"
   ]
  },
  {
   "cell_type": "code",
   "execution_count": 4,
   "id": "2844f844",
   "metadata": {},
   "outputs": [
    {
     "data": {
      "text/plain": [
       "<__main__.LinkedList at 0x17e1ae9bb80>"
      ]
     },
     "execution_count": 4,
     "metadata": {},
     "output_type": "execute_result"
    }
   ],
   "source": [
    "customLL = LinkedList()\n",
    "customLL.generate(10, 0, 99)"
   ]
  },
  {
   "cell_type": "code",
   "execution_count": 5,
   "id": "356cf49a",
   "metadata": {},
   "outputs": [
    {
     "name": "stdout",
     "output_type": "stream",
     "text": [
      "34 -> 85 -> 70 -> 20 -> 96 -> 95 -> 0 -> 42 -> 0 -> 29\n"
     ]
    }
   ],
   "source": [
    "print(customLL)"
   ]
  },
  {
   "cell_type": "code",
   "execution_count": 6,
   "id": "0aa26b6d",
   "metadata": {},
   "outputs": [
    {
     "name": "stdout",
     "output_type": "stream",
     "text": [
      "29 -> 0 -> 0 -> 20 -> 34 -> 85 -> 70 -> 96 -> 95 -> 42\n"
     ]
    }
   ],
   "source": [
    "print(customLL.partition(30))"
   ]
  }
 ],
 "metadata": {
  "kernelspec": {
   "display_name": "Python 3 (ipykernel)",
   "language": "python",
   "name": "python3"
  },
  "language_info": {
   "codemirror_mode": {
    "name": "ipython",
    "version": 3
   },
   "file_extension": ".py",
   "mimetype": "text/x-python",
   "name": "python",
   "nbconvert_exporter": "python",
   "pygments_lexer": "ipython3",
   "version": "3.9.12"
  }
 },
 "nbformat": 4,
 "nbformat_minor": 5
}
